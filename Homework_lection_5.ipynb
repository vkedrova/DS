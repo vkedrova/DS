{
 "cells": [
  {
   "cell_type": "code",
   "execution_count": 251,
   "id": "771c7391",
   "metadata": {},
   "outputs": [
    {
     "name": "stdout",
     "output_type": "stream",
     "text": [
      "{'user_id': 'category', '1840e0b9d4': 'Продукты', '4e4f90fcfb': 'Электроника', 'afea8d72fc': 'Электроника', '373a6055fe': 'Бытовая техника', '9b2ab046f3': 'Электроника', '9f39d307c3': 'Электроника', '44edeffc91': 'Продукты', '704474fa2d': 'Продукты', '1de31be403': 'Бытовая техника', 'b71f36a5e4': 'Продукты'}\n"
     ]
    }
   ],
   "source": [
    "import json\n",
    "\n",
    "with open ('C:\\\\Users\\\\kedrovx\\\\OneDrive - Abbott\\\\Рабочий стол\\\\Admin\\\\DS\\\\Downloads\\\\purchase_log.txt', encoding = 'utf-8') as f:\n",
    "    count = 0\n",
    "    purchases = {}\n",
    "    for line in f:\n",
    "        dict_line = json.loads(line)\n",
    "        purchases[dict_line['user_id']] = dict_line['category']\n",
    "        count += 1\n",
    "        if count > 10:\n",
    "            break\n",
    "    print(purchases)\n",
    "       \n",
    "    "
   ]
  },
  {
   "cell_type": "code",
   "execution_count": 212,
   "id": "8584ad8e",
   "metadata": {},
   "outputs": [],
   "source": [
    "funnel = open('C:\\\\Users\\\\kedrovx\\\\OneDrive - Abbott\\\\Рабочий стол\\\\Admin\\\\DS\\\\Downloads\\\\funnel.csv', 'w')\n"
   ]
  },
  {
   "cell_type": "code",
   "execution_count": 292,
   "id": "6aaaa46e",
   "metadata": {},
   "outputs": [
    {
     "name": "stdout",
     "output_type": "stream",
     "text": [
      "user_id,source\n",
      "\n",
      "6450655ae8,other\n",
      "\n",
      "b4ea53e670,other\n",
      "\n",
      "0e37347152,other\n",
      "\n",
      "96064ae9e0,other\n",
      "\n",
      "e1bd168161,context\n",
      "\n",
      "71bcf169b4,other\n",
      "\n",
      "e0aee73c5d,other\n",
      "\n",
      "1f8845e157,context\n",
      "\n",
      "78d22c5c78,other\n",
      "\n",
      "dd85040770,other\n",
      "\n"
     ]
    }
   ],
   "source": [
    "with open ('C:\\\\Users\\\\kedrovx\\\\OneDrive - Abbott\\\\Рабочий стол\\\\Admin\\\\DS\\\\Downloads\\\\visit_log.csv', encoding = 'utf-8') as f2:\n",
    "    c = 0\n",
    "    visit_log_upd = []\n",
    "    list_ = []\n",
    "    for l in f2:\n",
    "        print(l)\n",
    "        id_ = l.strip().split(',')[0]\n",
    "        type_ = l.strip().split(',')[1]\n",
    "#         if id_ in purchases.keys():\n",
    "#             for item in purchases.values():\n",
    "#                 list_.append(item)\n",
    "#         visit_log_upd.append(id_)\n",
    "#         visit_log_upd.append(type_)\n",
    "        \n",
    "        c +=1\n",
    "        if c > 10:\n",
    "            break\n",
    "\n",
    "# print(visit_log_upd)\n",
    "# print(list_)\n"
   ]
  }
 ],
 "metadata": {
  "kernelspec": {
   "display_name": "Python 3 (ipykernel)",
   "language": "python",
   "name": "python3"
  },
  "language_info": {
   "codemirror_mode": {
    "name": "ipython",
    "version": 3
   },
   "file_extension": ".py",
   "mimetype": "text/x-python",
   "name": "python",
   "nbconvert_exporter": "python",
   "pygments_lexer": "ipython3",
   "version": "3.9.7"
  }
 },
 "nbformat": 4,
 "nbformat_minor": 5
}
