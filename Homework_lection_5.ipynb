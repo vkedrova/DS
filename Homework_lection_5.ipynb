{
 "cells": [
  {
   "cell_type": "code",
   "execution_count": 133,
   "id": "771c7391",
   "metadata": {},
   "outputs": [
    {
     "name": "stdout",
     "output_type": "stream",
     "text": [
      "{'user_id': 'category', '1840e0b9d4': 'Продукты', '4e4f90fcfb': 'Электроника', 'afea8d72fc': 'Электроника', '373a6055fe': 'Бытовая техника', '9b2ab046f3': 'Электроника'}\n"
     ]
    }
   ],
   "source": [
    "import json\n",
    "\n",
    "with open ('C:\\\\Users\\\\kedrovx\\\\OneDrive - Abbott\\\\Рабочий стол\\\\Admin\\\\DS\\\\Downloads\\\\purchase_log.txt', encoding = 'utf-8') as f:\n",
    "    t = 0\n",
    "    purchases = {}\n",
    "    for line in f:\n",
    "        dict_line = json.loads(line)\n",
    "        purchases[dict_line['user_id']] = dict_line['category']\n",
    "        t += 1\n",
    "        if t > 5:\n",
    "            break\n",
    "    print(purchases)\n",
    "       \n",
    "    "
   ]
  },
  {
   "cell_type": "code",
   "execution_count": 212,
   "id": "c9721ef8",
   "metadata": {},
   "outputs": [],
   "source": [
    "funnel = open('C:\\\\Users\\\\kedrovx\\\\OneDrive - Abbott\\\\Рабочий стол\\\\Admin\\\\DS\\\\Downloads\\\\funnel.csv', 'w')\n"
   ]
  },
  {
   "cell_type": "code",
   "execution_count": 213,
   "id": "548a6f26",
   "metadata": {},
   "outputs": [
    {
     "data": {
      "text/plain": [
       "179"
      ]
     },
     "execution_count": 213,
     "metadata": {},
     "output_type": "execute_result"
    }
   ],
   "source": [
    "with open ('C:\\\\Users\\\\kedrovx\\\\OneDrive - Abbott\\\\Рабочий стол\\\\Admin\\\\DS\\\\Downloads\\\\visit_log.csv', encoding = 'utf-8') as f2:\n",
    "    c = 0\n",
    "    list_ = []\n",
    "    for l in f2:\n",
    "        list_.append(l)\n",
    "        id = l.strip().split(',')[0]\n",
    "        if id in purchases.keys():\n",
    "            for item in purchases.values():\n",
    "                list_.append(i)\n",
    "        \n",
    "        c +=1\n",
    "        if c > 5:\n",
    "            break\n",
    "        \n",
    "new_object = ','.join(list_)\n",
    "funnel.write(new_object)"
   ]
  }
 ],
 "metadata": {
  "kernelspec": {
   "display_name": "Python 3 (ipykernel)",
   "language": "python",
   "name": "python3"
  },
  "language_info": {
   "codemirror_mode": {
    "name": "ipython",
    "version": 3
   },
   "file_extension": ".py",
   "mimetype": "text/x-python",
   "name": "python",
   "nbconvert_exporter": "python",
   "pygments_lexer": "ipython3",
   "version": "3.9.7"
  }
 },
 "nbformat": 4,
 "nbformat_minor": 5
}
