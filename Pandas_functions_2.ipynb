{
 "cells": [
  {
   "cell_type": "code",
   "execution_count": 4,
   "id": "05244444",
   "metadata": {},
   "outputs": [],
   "source": [
    "import pandas as pd"
   ]
  },
  {
   "cell_type": "markdown",
   "id": "9b790fb4",
   "metadata": {},
   "source": [
    "# Задание 1"
   ]
  },
  {
   "cell_type": "code",
   "execution_count": 35,
   "id": "d0354ce9",
   "metadata": {
    "scrolled": true
   },
   "outputs": [
    {
     "data": {
      "text/html": [
       "<div>\n",
       "<style scoped>\n",
       "    .dataframe tbody tr th:only-of-type {\n",
       "        vertical-align: middle;\n",
       "    }\n",
       "\n",
       "    .dataframe tbody tr th {\n",
       "        vertical-align: top;\n",
       "    }\n",
       "\n",
       "    .dataframe thead th {\n",
       "        text-align: right;\n",
       "    }\n",
       "</style>\n",
       "<table border=\"1\" class=\"dataframe\">\n",
       "  <thead>\n",
       "    <tr style=\"text-align: right;\">\n",
       "      <th></th>\n",
       "      <th>userId</th>\n",
       "      <th>rating</th>\n",
       "      <th>timestamp</th>\n",
       "    </tr>\n",
       "    <tr>\n",
       "      <th>movieId</th>\n",
       "      <th></th>\n",
       "      <th></th>\n",
       "      <th></th>\n",
       "    </tr>\n",
       "  </thead>\n",
       "  <tbody>\n",
       "    <tr>\n",
       "      <th>1</th>\n",
       "      <td>338.558704</td>\n",
       "      <td>3.872470</td>\n",
       "      <td>1.103116e+09</td>\n",
       "    </tr>\n",
       "    <tr>\n",
       "      <th>2</th>\n",
       "      <td>318.906542</td>\n",
       "      <td>3.401869</td>\n",
       "      <td>1.069321e+09</td>\n",
       "    </tr>\n",
       "    <tr>\n",
       "      <th>3</th>\n",
       "      <td>374.423729</td>\n",
       "      <td>3.161017</td>\n",
       "      <td>9.662429e+08</td>\n",
       "    </tr>\n",
       "    <tr>\n",
       "      <th>4</th>\n",
       "      <td>355.538462</td>\n",
       "      <td>2.384615</td>\n",
       "      <td>9.277797e+08</td>\n",
       "    </tr>\n",
       "    <tr>\n",
       "      <th>5</th>\n",
       "      <td>320.785714</td>\n",
       "      <td>3.267857</td>\n",
       "      <td>9.967201e+08</td>\n",
       "    </tr>\n",
       "  </tbody>\n",
       "</table>\n",
       "</div>"
      ],
      "text/plain": [
       "             userId    rating     timestamp\n",
       "movieId                                    \n",
       "1        338.558704  3.872470  1.103116e+09\n",
       "2        318.906542  3.401869  1.069321e+09\n",
       "3        374.423729  3.161017  9.662429e+08\n",
       "4        355.538462  2.384615  9.277797e+08\n",
       "5        320.785714  3.267857  9.967201e+08"
      ]
     },
     "execution_count": 35,
     "metadata": {},
     "output_type": "execute_result"
    }
   ],
   "source": [
    "movies = pd.read_csv(r\"C:\\Users\\vkedrova\\Desktop\\personal\\Python\\Data_Sciense_course\\ml-latest-small\\movies.csv\")\n",
    "raitings = pd.read_csv(r\"C:\\Users\\vkedrova\\Desktop\\personal\\Python\\Data_Sciense_course\\ml-latest-small\\ratings.csv\")\n",
    "movies_base = pd.merge(movies, raitings, how =\"outer\", on = \"movieId\")\n",
    "av_raitings = movies_base.groupby(\"movieId\").mean(\"rating\")\n",
    "av_raitings.head()"
   ]
  },
  {
   "cell_type": "code",
   "execution_count": 37,
   "id": "ce33a0a4",
   "metadata": {},
   "outputs": [],
   "source": [
    "def classifier (a):\n",
    "    class_ = 0\n",
    "    if a <= 2:\n",
    "        class_ = \"low\"\n",
    "    elif 2 < a <= 4.5:\n",
    "        class_ = \"average\"\n",
    "    elif 4.5 < a <= 5:\n",
    "        class_ = \"high\"\n",
    "    else: \n",
    "        class_ = \"NA\"\n",
    "    return class_"
   ]
  },
  {
   "cell_type": "code",
   "execution_count": 38,
   "id": "b7e5f583",
   "metadata": {},
   "outputs": [
    {
     "data": {
      "text/html": [
       "<div>\n",
       "<style scoped>\n",
       "    .dataframe tbody tr th:only-of-type {\n",
       "        vertical-align: middle;\n",
       "    }\n",
       "\n",
       "    .dataframe tbody tr th {\n",
       "        vertical-align: top;\n",
       "    }\n",
       "\n",
       "    .dataframe thead th {\n",
       "        text-align: right;\n",
       "    }\n",
       "</style>\n",
       "<table border=\"1\" class=\"dataframe\">\n",
       "  <thead>\n",
       "    <tr style=\"text-align: right;\">\n",
       "      <th></th>\n",
       "      <th>userId</th>\n",
       "      <th>rating</th>\n",
       "      <th>timestamp</th>\n",
       "      <th>class</th>\n",
       "    </tr>\n",
       "    <tr>\n",
       "      <th>movieId</th>\n",
       "      <th></th>\n",
       "      <th></th>\n",
       "      <th></th>\n",
       "      <th></th>\n",
       "    </tr>\n",
       "  </thead>\n",
       "  <tbody>\n",
       "    <tr>\n",
       "      <th>1</th>\n",
       "      <td>338.558704</td>\n",
       "      <td>3.872470</td>\n",
       "      <td>1.103116e+09</td>\n",
       "      <td>average</td>\n",
       "    </tr>\n",
       "    <tr>\n",
       "      <th>2</th>\n",
       "      <td>318.906542</td>\n",
       "      <td>3.401869</td>\n",
       "      <td>1.069321e+09</td>\n",
       "      <td>average</td>\n",
       "    </tr>\n",
       "    <tr>\n",
       "      <th>3</th>\n",
       "      <td>374.423729</td>\n",
       "      <td>3.161017</td>\n",
       "      <td>9.662429e+08</td>\n",
       "      <td>average</td>\n",
       "    </tr>\n",
       "    <tr>\n",
       "      <th>4</th>\n",
       "      <td>355.538462</td>\n",
       "      <td>2.384615</td>\n",
       "      <td>9.277797e+08</td>\n",
       "      <td>average</td>\n",
       "    </tr>\n",
       "    <tr>\n",
       "      <th>5</th>\n",
       "      <td>320.785714</td>\n",
       "      <td>3.267857</td>\n",
       "      <td>9.967201e+08</td>\n",
       "      <td>average</td>\n",
       "    </tr>\n",
       "  </tbody>\n",
       "</table>\n",
       "</div>"
      ],
      "text/plain": [
       "             userId    rating     timestamp    class\n",
       "movieId                                             \n",
       "1        338.558704  3.872470  1.103116e+09  average\n",
       "2        318.906542  3.401869  1.069321e+09  average\n",
       "3        374.423729  3.161017  9.662429e+08  average\n",
       "4        355.538462  2.384615  9.277797e+08  average\n",
       "5        320.785714  3.267857  9.967201e+08  average"
      ]
     },
     "execution_count": 38,
     "metadata": {},
     "output_type": "execute_result"
    }
   ],
   "source": [
    "av_raitings['class'] = av_raitings['rating'].apply(classifier)\n",
    "av_raitings.head()"
   ]
  },
  {
   "cell_type": "markdown",
   "id": "cb13060f",
   "metadata": {},
   "source": [
    "# Задание 2"
   ]
  },
  {
   "cell_type": "code",
   "execution_count": 5,
   "id": "338f1d45",
   "metadata": {},
   "outputs": [
    {
     "data": {
      "text/html": [
       "<div>\n",
       "<style scoped>\n",
       "    .dataframe tbody tr th:only-of-type {\n",
       "        vertical-align: middle;\n",
       "    }\n",
       "\n",
       "    .dataframe tbody tr th {\n",
       "        vertical-align: top;\n",
       "    }\n",
       "\n",
       "    .dataframe thead th {\n",
       "        text-align: right;\n",
       "    }\n",
       "</style>\n",
       "<table border=\"1\" class=\"dataframe\">\n",
       "  <thead>\n",
       "    <tr style=\"text-align: right;\">\n",
       "      <th></th>\n",
       "      <th>keyword</th>\n",
       "      <th>shows</th>\n",
       "    </tr>\n",
       "  </thead>\n",
       "  <tbody>\n",
       "    <tr>\n",
       "      <th>0</th>\n",
       "      <td>вк</td>\n",
       "      <td>64292779</td>\n",
       "    </tr>\n",
       "    <tr>\n",
       "      <th>1</th>\n",
       "      <td>одноклассники</td>\n",
       "      <td>63810309</td>\n",
       "    </tr>\n",
       "    <tr>\n",
       "      <th>2</th>\n",
       "      <td>порно</td>\n",
       "      <td>41747114</td>\n",
       "    </tr>\n",
       "    <tr>\n",
       "      <th>3</th>\n",
       "      <td>ютуб</td>\n",
       "      <td>39995567</td>\n",
       "    </tr>\n",
       "    <tr>\n",
       "      <th>4</th>\n",
       "      <td>вконтакте</td>\n",
       "      <td>21014195</td>\n",
       "    </tr>\n",
       "  </tbody>\n",
       "</table>\n",
       "</div>"
      ],
      "text/plain": [
       "         keyword     shows\n",
       "0             вк  64292779\n",
       "1  одноклассники  63810309\n",
       "2          порно  41747114\n",
       "3           ютуб  39995567\n",
       "4      вконтакте  21014195"
      ]
     },
     "execution_count": 5,
     "metadata": {},
     "output_type": "execute_result"
    }
   ],
   "source": [
    "cities = pd.read_csv(r\"C:\\Users\\vkedrova\\Desktop\\personal\\Python\\Data_Sciense_course\\ml-latest-small\\keywords.csv\")\n",
    "cities.head()"
   ]
  },
  {
   "cell_type": "code",
   "execution_count": 9,
   "id": "a9809230",
   "metadata": {},
   "outputs": [],
   "source": [
    "\n",
    "geo_data = {\n",
    "\n",
    "'Центр': ['москва', 'тула', 'ярославль'],\n",
    "\n",
    "'Северо-Запад': ['петербург', 'псков', 'мурманск'],\n",
    "\n",
    "'Дальний Восток': ['владивосток', 'сахалин', 'хабаровск']\n",
    "}"
   ]
  },
  {
   "cell_type": "code",
   "execution_count": 43,
   "id": "18d32805",
   "metadata": {},
   "outputs": [],
   "source": [
    "def region_check (df):\n",
    "    for k, v in geo_data.items():\n",
    "        for i in df['keyword']:\n",
    "            if i in v:\n",
    "                df['region'] = k\n",
    "            else: \n",
    "                df['region'] = \"undefined\"\n",
    "            return df['region']"
   ]
  },
  {
   "cell_type": "code",
   "execution_count": 46,
   "id": "301c54c6",
   "metadata": {},
   "outputs": [
    {
     "data": {
      "text/html": [
       "<div>\n",
       "<style scoped>\n",
       "    .dataframe tbody tr th:only-of-type {\n",
       "        vertical-align: middle;\n",
       "    }\n",
       "\n",
       "    .dataframe tbody tr th {\n",
       "        vertical-align: top;\n",
       "    }\n",
       "\n",
       "    .dataframe thead th {\n",
       "        text-align: right;\n",
       "    }\n",
       "</style>\n",
       "<table border=\"1\" class=\"dataframe\">\n",
       "  <thead>\n",
       "    <tr style=\"text-align: right;\">\n",
       "      <th></th>\n",
       "      <th>keyword</th>\n",
       "      <th>shows</th>\n",
       "      <th>region</th>\n",
       "    </tr>\n",
       "  </thead>\n",
       "  <tbody>\n",
       "    <tr>\n",
       "      <th>0</th>\n",
       "      <td>вк</td>\n",
       "      <td>64292779</td>\n",
       "      <td>undefined</td>\n",
       "    </tr>\n",
       "    <tr>\n",
       "      <th>1</th>\n",
       "      <td>одноклассники</td>\n",
       "      <td>63810309</td>\n",
       "      <td>undefined</td>\n",
       "    </tr>\n",
       "    <tr>\n",
       "      <th>2</th>\n",
       "      <td>порно</td>\n",
       "      <td>41747114</td>\n",
       "      <td>undefined</td>\n",
       "    </tr>\n",
       "    <tr>\n",
       "      <th>3</th>\n",
       "      <td>ютуб</td>\n",
       "      <td>39995567</td>\n",
       "      <td>undefined</td>\n",
       "    </tr>\n",
       "    <tr>\n",
       "      <th>4</th>\n",
       "      <td>вконтакте</td>\n",
       "      <td>21014195</td>\n",
       "      <td>undefined</td>\n",
       "    </tr>\n",
       "  </tbody>\n",
       "</table>\n",
       "</div>"
      ],
      "text/plain": [
       "         keyword     shows     region\n",
       "0             вк  64292779  undefined\n",
       "1  одноклассники  63810309  undefined\n",
       "2          порно  41747114  undefined\n",
       "3           ютуб  39995567  undefined\n",
       "4      вконтакте  21014195  undefined"
      ]
     },
     "execution_count": 46,
     "metadata": {},
     "output_type": "execute_result"
    }
   ],
   "source": [
    "cities.apply(region_check, axis = 1)\n",
    "cities.head()"
   ]
  },
  {
   "cell_type": "code",
   "execution_count": 52,
   "id": "fb43de66",
   "metadata": {},
   "outputs": [
    {
     "data": {
      "text/html": [
       "<div>\n",
       "<style scoped>\n",
       "    .dataframe tbody tr th:only-of-type {\n",
       "        vertical-align: middle;\n",
       "    }\n",
       "\n",
       "    .dataframe tbody tr th {\n",
       "        vertical-align: top;\n",
       "    }\n",
       "\n",
       "    .dataframe thead th {\n",
       "        text-align: right;\n",
       "    }\n",
       "</style>\n",
       "<table border=\"1\" class=\"dataframe\">\n",
       "  <thead>\n",
       "    <tr style=\"text-align: right;\">\n",
       "      <th></th>\n",
       "      <th>keyword</th>\n",
       "      <th>shows</th>\n",
       "    </tr>\n",
       "    <tr>\n",
       "      <th>region</th>\n",
       "      <th></th>\n",
       "      <th></th>\n",
       "    </tr>\n",
       "  </thead>\n",
       "  <tbody>\n",
       "    <tr>\n",
       "      <th>undefined</th>\n",
       "      <td>100000</td>\n",
       "      <td>100000</td>\n",
       "    </tr>\n",
       "  </tbody>\n",
       "</table>\n",
       "</div>"
      ],
      "text/plain": [
       "           keyword   shows\n",
       "region                    \n",
       "undefined   100000  100000"
      ]
     },
     "execution_count": 52,
     "metadata": {},
     "output_type": "execute_result"
    }
   ],
   "source": [
    "cities.groupby(['region']).count()"
   ]
  },
  {
   "cell_type": "code",
   "execution_count": 54,
   "id": "319ad5d0",
   "metadata": {},
   "outputs": [],
   "source": [
    "test = ['москва', 'тула', 'ярославль', 'петербург', 'псков', 'мурманск', 'владивосток', 'сахалин', 'хабаровск', 'уфа', 'казань', 'новосибирск']"
   ]
  },
  {
   "cell_type": "code",
   "execution_count": 55,
   "id": "9f8d871e",
   "metadata": {},
   "outputs": [
    {
     "name": "stdout",
     "output_type": "stream",
     "text": [
      "Центр\n",
      "Центр\n",
      "Центр\n",
      "undefined\n",
      "undefined\n",
      "undefined\n",
      "undefined\n",
      "undefined\n",
      "undefined\n",
      "undefined\n",
      "undefined\n",
      "undefined\n",
      "undefined\n",
      "undefined\n",
      "undefined\n",
      "Северо-Запад\n",
      "Северо-Запад\n",
      "Северо-Запад\n",
      "undefined\n",
      "undefined\n",
      "undefined\n",
      "undefined\n",
      "undefined\n",
      "undefined\n",
      "undefined\n",
      "undefined\n",
      "undefined\n",
      "undefined\n",
      "undefined\n",
      "undefined\n",
      "Дальний Восток\n",
      "Дальний Восток\n",
      "Дальний Восток\n",
      "undefined\n",
      "undefined\n",
      "undefined\n"
     ]
    }
   ],
   "source": [
    "for k, v in geo_data.items():\n",
    "        for i in test:\n",
    "            if i in v:\n",
    "                region = k\n",
    "            else: \n",
    "                region = \"undefined\"\n",
    "            print(region)"
   ]
  }
 ],
 "metadata": {
  "kernelspec": {
   "display_name": "Python 3 (ipykernel)",
   "language": "python",
   "name": "python3"
  },
  "language_info": {
   "codemirror_mode": {
    "name": "ipython",
    "version": 3
   },
   "file_extension": ".py",
   "mimetype": "text/x-python",
   "name": "python",
   "nbconvert_exporter": "python",
   "pygments_lexer": "ipython3",
   "version": "3.11.4"
  }
 },
 "nbformat": 4,
 "nbformat_minor": 5
}
