{
 "cells": [
  {
   "cell_type": "code",
   "execution_count": 230,
   "id": "2cccfbb1",
   "metadata": {},
   "outputs": [],
   "source": [
    "import numpy as np\n",
    "import scipy.stats as st\n",
    "import pandas as pd\n",
    "import math\n",
    "import matplotlib.pyplot as plt\n",
    "import seaborn as sns"
   ]
  },
  {
   "cell_type": "markdown",
   "id": "2d1b2176",
   "metadata": {},
   "source": [
    "<div class=\"alert alert-info\">\n",
    "<b>Задание № 1</b>\n",
    "    \n",
    "Разработайте функцию для проверки нормальности распределения выборки данных, используя шаблон ниже. Вы можете использовать один из известных Вам статистических тестов.\n",
    "</div>"
   ]
  },
  {
   "cell_type": "code",
   "execution_count": 150,
   "id": "3ab17fc5",
   "metadata": {},
   "outputs": [],
   "source": [
    "def check_normality(data, a): #a = уровень значимости\n",
    "    stat, p = st.shapiro(data)\n",
    "        \n",
    "    if p < a:\n",
    "        print(\"Отклоняем нулевую гипотезу >> Данные распределены не нормально\", \"Уровень значимости =\", a)\n",
    "    else:\n",
    "        print(\"Не отклоняем нулевую гипотезу >> Данные распределены нормально\", \"Уровень значимости =\", a)\n",
    "    print(f\"Статистика = {stat:.5f}, p = {p:.5f}\")"
   ]
  },
  {
   "cell_type": "markdown",
   "id": "bc064c36",
   "metadata": {},
   "source": [
    "<div class=\"alert alert-info\">\n",
    "<b>Задание № 2</b>\n",
    "\n",
    "Даны две выборки роста мужчин и женщин.\n",
    "- Докажите, используя `t-Тест Стьдента`, что различие между выборками незначительно, если уровень значимости равен $\\alpha$ `= 0.001`.\n",
    "- Покажите различия визуально\n",
    "- Является ли результат полезным с практической точки зрения? Почему да или нет?\n",
    "</div>"
   ]
  },
  {
   "cell_type": "code",
   "execution_count": 186,
   "id": "0ca36dc9",
   "metadata": {},
   "outputs": [],
   "source": [
    "np.random.seed(42) #фиксация случайности\n",
    "\n",
    "mens  = st.norm.rvs(loc=171, scale=10, size=150000)  # Выборка мужчин со средним ростом 171\n",
    "womens = st.norm.rvs(loc=170, scale=10, size=150000)  # Выборка женщин со средним ростом 170"
   ]
  },
  {
   "cell_type": "markdown",
   "id": "6a98c923",
   "metadata": {},
   "source": [
    "Проверяем потенциальное равенство дисперсий"
   ]
  },
  {
   "cell_type": "code",
   "execution_count": 197,
   "id": "7b187700",
   "metadata": {},
   "outputs": [],
   "source": [
    "def f_test(x, y):\n",
    "    x = np.array(x)\n",
    "    y = np.array(y)\n",
    "    f = np.var(x, ddof=1)/np.var(y, ddof=1) \n",
    "    dfn = x.size-1 \n",
    "    dfd = y.size-1 \n",
    "    p = 1-st.f.cdf(f, dfn, dfd) \n",
    "    print(f\"Статистика = {f:.5f}, p = {p:.5f}\")\n",
    "    if p < 0.05:\n",
    "        print('Дисперсии скорее НЕ равны')\n",
    "    else:\n",
    "        print ('Дисперсии скорее равны')\n"
   ]
  },
  {
   "cell_type": "code",
   "execution_count": 198,
   "id": "045aed1a",
   "metadata": {},
   "outputs": [
    {
     "name": "stdout",
     "output_type": "stream",
     "text": [
      "Статистика = 1.00226, p = 0.33127\n",
      "Дисперсии скорее равны\n"
     ]
    }
   ],
   "source": [
    "f_test(mens, womens)"
   ]
  },
  {
   "cell_type": "code",
   "execution_count": 187,
   "id": "391173e7",
   "metadata": {},
   "outputs": [
    {
     "name": "stdout",
     "output_type": "stream",
     "text": [
      "Статистика = 28.31364, p = 0.00000\n",
      "Отклоняем нулевую гипотезу: различие между выборками значительно\n"
     ]
    }
   ],
   "source": [
    "stat, p = st.ttest_ind(mens, womens)\n",
    "print(f\"Статистика = {stat:.5f}, p = {p:.5f}\")\n",
    "\n",
    "if p > 0.001:\n",
    "    print('Принимаем нулевую гипотезу: различие между выборками незначительно')\n",
    "else:\n",
    "    print('Отклоняем нулевую гипотезу: различие между выборками значительно')"
   ]
  },
  {
   "cell_type": "code",
   "execution_count": 61,
   "id": "38c3fc59",
   "metadata": {},
   "outputs": [
    {
     "data": {
      "image/png": "[encoded data removed]",
      "text/plain": [
       "<Figure size 640x480 with 1 Axes>"
      ]
     },
     "metadata": {},
     "output_type": "display_data"
    }
   ],
   "source": [
    "plt.hist(mens, bins=40)\n",
    "plt.hist(womens, bins=40)\n",
    "plt.show()"
   ]
  },
  {
   "cell_type": "markdown",
   "id": "f7759f04",
   "metadata": {},
   "source": [
    "По графику видно, что распределение в обеих выборках очень схоже и скорее имеют близкие друг к другу средние c логичным небольшин смещением выборки mens влево относительно выборки womens - все же мужчины выше женщин.\n",
    "При этом t-test показывает значительную разницу между выборками. Опираться только на результаты t-test в данном вопросе было бы нелогично"
   ]
  },
  {
   "cell_type": "markdown",
   "id": "7add8c5d",
   "metadata": {},
   "source": [
    "<div class=\"alert alert-info\">\n",
    "<b>Задание № 3</b>\n",
    "\n",
    "Специалист по кадрам, работающий в технологической компании, интересуется сверхурочным временем разных команд. Чтобы выяснить, есть ли разница между сверхурочной работой команды разработчиков программного обеспечения и группы тестирования, она случайным образом выбрала 17 сотрудников в каждой из двух команд и записала их среднее сверхурочное время за неделю в пересчете на час. Данные ниже.\n",
    "\n",
    "В соответствии с этой информацией проведите проверку гипотезы, чтобы проверить, есть ли разница между переутомлением двух команд, используя уровень значимости 0,05. Прежде чем приступать к проверке гипотез, проверьте предположение нормальности.\n",
    "</div>"
   ]
  },
  {
   "cell_type": "code",
   "execution_count": 106,
   "id": "1d4d6fae",
   "metadata": {},
   "outputs": [],
   "source": [
    "test_team = [6.2, 7.1, 1.5, 2,3 , 2, 1.5, 6.1, 2.4, 2.3, 12.4, 1.8, 5.3, 3.1, 9.4, 2.3, 4.1]\n",
    "developer_team = [2.3, 2.1, 1.4, 2.0, 8.7, 2.2, 3.1, 4.2, 3.6, 2.5, 3.1, 6.2, 12.1, 3.9, 2.2, 1.2 ,3.4]"
   ]
  },
  {
   "cell_type": "code",
   "execution_count": 171,
   "id": "6e146e30",
   "metadata": {},
   "outputs": [
    {
     "name": "stdout",
     "output_type": "stream",
     "text": [
      "Отклоняем нулевую гипотезу >> Данные распределены не нормально Уровень значимости = 0.05\n",
      "Статистика = 0.82538, p = 0.00462\n",
      "Отклоняем нулевую гипотезу >> Данные распределены не нормально Уровень значимости = 0.05\n",
      "Статистика = 0.75274, p = 0.00049\n"
     ]
    }
   ],
   "source": [
    "check_normality(test_team, 0.05)\n",
    "check_normality(developer_team, 0.05)"
   ]
  },
  {
   "cell_type": "code",
   "execution_count": 117,
   "id": "913d626a",
   "metadata": {},
   "outputs": [
    {
     "data": {
      "image/png": "[encoded data removed]",
      "text/plain": [
       "<Figure size 640x480 with 1 Axes>"
      ]
     },
     "metadata": {},
     "output_type": "display_data"
    }
   ],
   "source": [
    "plt.hist(test_team, bins=40)\n",
    "plt.hist(developer_team, bins=40)\n",
    "plt.show()"
   ]
  },
  {
   "cell_type": "code",
   "execution_count": 119,
   "id": "c7bd3b6f",
   "metadata": {},
   "outputs": [
    {
     "name": "stdout",
     "output_type": "stream",
     "text": [
      "Статистика = 151.50000, p = 0.82265\n",
      "Не отклоняем нулевую гипотезу, разницы между сверхурочной работой команд скорее всего нет\n"
     ]
    }
   ],
   "source": [
    "stat, p = st.mannwhitneyu(test_team, developer_team)\n",
    "\n",
    "print(f\"Статистика = {stat:.5f}, p = {p:.5f}\")\n",
    "\n",
    "if p > 0.05:\n",
    "    print('Не отклоняем нулевую гипотезу, разницы между сверхурочной работой команд скорее всего нет')\n",
    "else:\n",
    "    print('Отклоняем нулевую гипотезу, разница между сверхурочной работой команд скорее всего есть')"
   ]
  },
  {
   "cell_type": "markdown",
   "id": "0b556b7c",
   "metadata": {},
   "source": [
    "<div class=\"alert alert-info\">\n",
    "<b>Задание № 4</b>\n",
    "\n",
    "Педиатр хочет увидеть влияние потребления смеси на среднемесячную прибавку в весе у новорожденных. По этой причине она собрала данные из трех разных групп. Первая группа – дети исключительно грудного вскармливания, вторая группа – дети, которых кормят только смесью, и последняя группа – это дети, находящиеся на искусственном вскармливании и на грудном вскармливании. Эти данные приведены ниже.\n",
    "\n",
    "В соответствии с этой информацией проведите проверку гипотезы, чтобы проверить, есть ли разница между среднемесячным приростом этих трех групп, используя уровень значимости 0,05. Если есть значительная разница, выполните дальнейший анализ, чтобы найти причину разницы.\n",
    "</div>"
   ]
  },
  {
   "cell_type": "code",
   "execution_count": 173,
   "id": "e6579b50",
   "metadata": {},
   "outputs": [],
   "source": [
    "only_breast = [794.1, 716.9, 993. , 724.7, 760.9, 908.2, 659.3 , 690.8, 768.7, 717.3 , 630.7, 729.5, 714.1, 810.3, 583.5, 679.9, 865.1];\n",
    "only_formula = [898.8, 881.2, 940.2, 966.2, 957.5, 1061.7, 1046.2, 980.4, 895.6, 919.7, 1074.1, 952.5, 796.3, 859.6, 871.1 , 1047.5, 919.1 , 1160.5, 996.9];\n",
    "both = [976.4, 656.4, 861.2, 706.8, 718.5, 717.1, 759.8, 894.6, 867.6, 805.6, 765.4, 800.3, 789.9, 875.3, 740. , 799.4, 790.3, 795.2 , 823.6, 818.7, 926.8, 791.7, 948.3];"
   ]
  },
  {
   "cell_type": "code",
   "execution_count": 178,
   "id": "3cd879ec",
   "metadata": {},
   "outputs": [
    {
     "name": "stdout",
     "output_type": "stream",
     "text": [
      "Не отклоняем нулевую гипотезу >> Данные распределены нормально Уровень значимости = 0.05\n",
      "Статистика = 0.95081, p = 0.46942\n",
      "Не отклоняем нулевую гипотезу >> Данные распределены нормально Уровень значимости = 0.05\n",
      "Статистика = 0.97608, p = 0.88790\n",
      "Не отклоняем нулевую гипотезу >> Данные распределены нормально Уровень значимости = 0.05\n",
      "Статистика = 0.97461, p = 0.79730\n"
     ]
    }
   ],
   "source": [
    "check_normality(only_breast, 0.05)\n",
    "check_normality (only_formula, 0.05)\n",
    "check_normality (both, 0.05)"
   ]
  },
  {
   "cell_type": "code",
   "execution_count": 203,
   "id": "e743ee6c",
   "metadata": {},
   "outputs": [
    {
     "name": "stdout",
     "output_type": "stream",
     "text": [
      "Статистика = 1.30897, p = 0.28903\n",
      "Дисперсии скорее равны\n",
      "Статистика = 1.63157, p = 0.14173\n",
      "Дисперсии скорее равны\n",
      "Статистика = 1.24646, p = 0.30839\n",
      "Дисперсии скорее равны\n"
     ]
    }
   ],
   "source": [
    "f_test(only_breast, only_formula)\n",
    "f_test(only_breast, both)\n",
    "f_test(only_formula, both)"
   ]
  },
  {
   "cell_type": "code",
   "execution_count": 183,
   "id": "ab523b0b",
   "metadata": {},
   "outputs": [
    {
     "name": "stdout",
     "output_type": "stream",
     "text": [
      "Статистика = -6.57305, p = 0.00000\n",
      "Отклоняем нулевую гипотезу: различие между выборками значительно\n"
     ]
    }
   ],
   "source": [
    "stat, p = st.ttest_ind(only_breast, only_formula)\n",
    "print(f\"Статистика = {stat:.5f}, p = {p:.5f}\")\n",
    "\n",
    "if p > 0.001:\n",
    "    print('Принимаем нулевую гипотезу: различие между выборками незначительно')\n",
    "else:\n",
    "    print('Отклоняем нулевую гипотезу: различие между выборками значительно')"
   ]
  },
  {
   "cell_type": "code",
   "execution_count": 184,
   "id": "341ca81b",
   "metadata": {},
   "outputs": [
    {
     "name": "stdout",
     "output_type": "stream",
     "text": [
      "Статистика = -2.09223, p = 0.04315\n",
      "Принимаем нулевую гипотезу: различие между выборками незначительно\n"
     ]
    }
   ],
   "source": [
    "stat, p = st.ttest_ind(only_breast, both)\n",
    "print(f\"Статистика = {stat:.5f}, p = {p:.5f}\")\n",
    "\n",
    "if p > 0.001:\n",
    "    print('Принимаем нулевую гипотезу: различие между выборками незначительно')\n",
    "else:\n",
    "    print('Отклоняем нулевую гипотезу: различие между выборками значительно')"
   ]
  },
  {
   "cell_type": "code",
   "execution_count": 185,
   "id": "30aa1617",
   "metadata": {},
   "outputs": [
    {
     "name": "stdout",
     "output_type": "stream",
     "text": [
      "Статистика = 5.72011, p = 0.00000\n",
      "Отклоняем нулевую гипотезу: различие между выборками значительно\n"
     ]
    }
   ],
   "source": [
    "stat, p = st.ttest_ind(only_formula, both)\n",
    "print(f\"Статистика = {stat:.5f}, p = {p:.5f}\")\n",
    "\n",
    "if p > 0.001:\n",
    "    print('Принимаем нулевую гипотезу: различие между выборками незначительно')\n",
    "else:\n",
    "    print('Отклоняем нулевую гипотезу: различие между выборками значительно')"
   ]
  },
  {
   "cell_type": "markdown",
   "id": "7062a649",
   "metadata": {},
   "source": [
    "Дети на искусственном вскармливании быстрее набирают вес, чем те, которые находятся на натуральном - выборки их среднемесячных прибавок в весе даже не пересекаются"
   ]
  },
  {
   "cell_type": "code",
   "execution_count": 239,
   "id": "be704ba5",
   "metadata": {},
   "outputs": [
    {
     "data": {
      "image/png": "[encoded data removed]",
      "text/plain": [
       "<Figure size 640x480 with 1 Axes>"
      ]
     },
     "metadata": {},
     "output_type": "display_data"
    }
   ],
   "source": [
    "plt.hist(only_breast, bins=20)\n",
    "plt.hist(only_formula, bins=20)\n",
    "plt.hist(both, bins=20)\n",
    "plt.show()"
   ]
  },
  {
   "cell_type": "markdown",
   "id": "8d737aef",
   "metadata": {},
   "source": [
    "Средние прибавки в весе детей, которые находятся на искусственном и смешанном вскармливании расположены достаточно далеко друг от друга, при этом в выборках нет выбросов, которые могли бы явно исказить данные"
   ]
  },
  {
   "cell_type": "code",
   "execution_count": 261,
   "id": "549c979f",
   "metadata": {},
   "outputs": [
    {
     "data": {
      "image/png": "[encoded data removed]",
      "text/plain": [
       "<Figure size 640x480 with 1 Axes>"
      ]
     },
     "metadata": {},
     "output_type": "display_data"
    }
   ],
   "source": [
    "plt.boxplot(x = only_formula)\n",
    "plt.boxplot(x = both)\n",
    "plt.show()"
   ]
  }
 ],
 "metadata": {
  "kernelspec": {
   "display_name": "Python 3 (ipykernel)",
   "language": "python",
   "name": "python3"
  },
  "language_info": {
   "codemirror_mode": {
    "name": "ipython",
    "version": 3
   },
   "file_extension": ".py",
   "mimetype": "text/x-python",
   "name": "python",
   "nbconvert_exporter": "python",
   "pygments_lexer": "ipython3",
   "version": "3.11.4"
  }
 },
 "nbformat": 4,
 "nbformat_minor": 5
}
