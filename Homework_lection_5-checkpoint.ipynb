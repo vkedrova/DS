{
 "cells": [
  {
   "cell_type": "code",
   "execution_count": 322,
   "id": "771c7391",
   "metadata": {},
   "outputs": [
    {
     "name": "stdout",
     "output_type": "stream",
     "text": [
      "{'user_id': 'category', '1840e0b9d4': 'Продукты', '4e4f90fcfb': 'Электроника', 'afea8d72fc': 'Электроника', '373a6055fe': 'Бытовая техника', '9b2ab046f3': 'Электроника', '9f39d307c3': 'Электроника', '44edeffc91': 'Продукты', '704474fa2d': 'Продукты', '1de31be403': 'Бытовая техника', 'b71f36a5e4': 'Продукты'}\n"
     ]
    }
   ],
   "source": [
    "import json\n",
    "\n",
    "with open ('C:\\\\Users\\\\kedrovx\\\\OneDrive - Abbott\\\\Рабочий стол\\\\Admin\\\\DS\\\\Downloads\\\\purchase_log.txt', encoding = 'utf-8') as f:\n",
    "    count = 0\n",
    "    purchases = {}\n",
    "    for line in f:\n",
    "        dict_line = json.loads(line)\n",
    "        purchases[dict_line['user_id']] = dict_line['category']\n",
    "        \n",
    "# Блок ниже применяется при необходимости вывести часть полученного словаря на экран\n",
    "#         count += 1\n",
    "#         if count > 10:\n",
    "#             break  \n",
    "#     print(purchases)\n",
    "    \n",
    "       \n",
    "    "
   ]
  },
  {
   "cell_type": "code",
   "execution_count": 420,
   "id": "86a3e240",
   "metadata": {},
   "outputs": [],
   "source": [
    "funnel = open('C:\\\\Users\\\\kedrovx\\\\OneDrive - Abbott\\\\Рабочий стол\\\\Admin\\\\DS\\\\Downloads\\\\funnel.csv', 'w')\n"
   ]
  },
  {
   "cell_type": "code",
   "execution_count": 422,
   "id": "6aa2276f",
   "metadata": {},
   "outputs": [
    {
     "ename": "ValueError",
     "evalue": "I/O operation on closed file.",
     "output_type": "error",
     "traceback": [
      "\u001b[1;31m---------------------------------------------------------------------------\u001b[0m",
      "\u001b[1;31mValueError\u001b[0m                                Traceback (most recent call last)",
      "\u001b[1;32m~\\AppData\\Local\\Temp/ipykernel_1076/2258701649.py\u001b[0m in \u001b[0;36m<module>\u001b[1;34m\u001b[0m\n\u001b[0;32m      6\u001b[0m             \u001b[0melement\u001b[0m\u001b[1;33m.\u001b[0m\u001b[0mappend\u001b[0m\u001b[1;33m(\u001b[0m\u001b[0mpurchases\u001b[0m\u001b[1;33m[\u001b[0m\u001b[0mid_\u001b[0m\u001b[1;33m]\u001b[0m\u001b[1;33m)\u001b[0m\u001b[1;33m\u001b[0m\u001b[1;33m\u001b[0m\u001b[0m\n\u001b[0;32m      7\u001b[0m             \u001b[0mvisit_purchase\u001b[0m \u001b[1;33m=\u001b[0m \u001b[1;33m(\u001b[0m\u001b[1;34m','\u001b[0m\u001b[1;33m.\u001b[0m\u001b[0mjoin\u001b[0m\u001b[1;33m(\u001b[0m\u001b[0melement\u001b[0m\u001b[1;33m)\u001b[0m\u001b[1;33m)\u001b[0m\u001b[1;33m\u001b[0m\u001b[1;33m\u001b[0m\u001b[0m\n\u001b[1;32m----> 8\u001b[1;33m             \u001b[0mfunnel\u001b[0m\u001b[1;33m.\u001b[0m\u001b[0mwrite\u001b[0m\u001b[1;33m(\u001b[0m\u001b[1;34mf'{visit_purchase}\\n'\u001b[0m\u001b[1;33m)\u001b[0m\u001b[1;33m\u001b[0m\u001b[1;33m\u001b[0m\u001b[0m\n\u001b[0m\u001b[0;32m      9\u001b[0m             \u001b[0mfunnel\u001b[0m\u001b[1;33m.\u001b[0m\u001b[0mclose\u001b[0m\u001b[1;33m(\u001b[0m\u001b[1;33m)\u001b[0m\u001b[1;33m\u001b[0m\u001b[1;33m\u001b[0m\u001b[0m\n",
      "\u001b[1;31mValueError\u001b[0m: I/O operation on closed file."
     ]
    }
   ],
   "source": [
    "with open ('C:\\\\Users\\\\kedrovx\\\\OneDrive - Abbott\\\\Рабочий стол\\\\Admin\\\\DS\\\\Downloads\\\\visit_log.csv', encoding = 'utf-8') as f2:\n",
    "    for l in f2:\n",
    "        element = l.strip().split(',')\n",
    "        id_ = l.strip().split(',')[0]\n",
    "        if id_ in purchases.keys():\n",
    "            element.append(purchases[id_])\n",
    "            visit_purchase = (','.join(element))\n",
    "            funnel.write(f'{visit_purchase}\\n')\n",
    "            funnel.close()\n"
   ]
  }
 ],
 "metadata": {
  "kernelspec": {
   "display_name": "Python 3 (ipykernel)",
   "language": "python",
   "name": "python3"
  },
  "language_info": {
   "codemirror_mode": {
    "name": "ipython",
    "version": 3
   },
   "file_extension": ".py",
   "mimetype": "text/x-python",
   "name": "python",
   "nbconvert_exporter": "python",
   "pygments_lexer": "ipython3",
   "version": "3.9.7"
  }
 },
 "nbformat": 4,
 "nbformat_minor": 5
}
