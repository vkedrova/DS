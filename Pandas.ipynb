{
 "cells": [
  {
   "cell_type": "code",
   "execution_count": 6,
   "id": "37e4e204",
   "metadata": {},
   "outputs": [],
   "source": [
    "import pandas as pd\n",
    "\n",
    "movies = pd.read_csv(r\"C:\\Users\\vkedrova\\Downloads\\10._Основы_pandas\\10._Основы_pandas\\Файлы_к_заданию №1\\movies.csv\")\n",
    "ratings = pd.read_csv(r\"C:\\Users\\vkedrova\\Downloads\\10._Основы_pandas\\10._Основы_pandas\\Файлы_к_заданию №1\\ratings.csv\")\n",
    "power = pd.read_csv(r\"C:\\Users\\vkedrova\\Downloads\\10._Основы_pandas\\10._Основы_pandas\\Файлы к заданию №2\\power.csv\")\n"
   ]
  },
  {
   "cell_type": "code",
   "execution_count": 5,
   "id": "eb65c15a",
   "metadata": {},
   "outputs": [
    {
     "data": {
      "text/plain": [
       "Shawshank Redemption, The (1994)             153\n",
       "Pulp Fiction (1994)                          123\n",
       "Forrest Gump (1994)                          116\n",
       "Matrix, The (1999)                           109\n",
       "Star Wars: Episode IV - A New Hope (1977)    104\n",
       "                                            ... \n",
       "Hello, Dolly! (1969)                           1\n",
       "Day of the Dead (1985)                         1\n",
       "Millennium Actress (Sennen joyû) (2001)        1\n",
       "Out of the Past (1947)                         1\n",
       "Won't You Be My Neighbor? (2018)               1\n",
       "Name: title, Length: 2954, dtype: int64"
      ]
     },
     "execution_count": 5,
     "metadata": {},
     "output_type": "execute_result"
    }
   ],
   "source": [
    "full_base = pd.merge(movies, ratings, how = \"outer\", on = \"movieId\")\n",
    "max_raitings = full_base[full_base.rating == 5.0]\n",
    "max_raitings['title'].value_counts()"
   ]
  },
  {
   "cell_type": "code",
   "execution_count": 4,
   "id": "55fbe07c",
   "metadata": {},
   "outputs": [
    {
     "data": {
      "text/plain": [
       "164486.0"
      ]
     },
     "execution_count": 4,
     "metadata": {},
     "output_type": "execute_result"
    }
   ],
   "source": [
    "target_power = power[((power['country'] == 'Lithuania') | (power['country'] == 'Latvia') | (power['country'] == 'Estonia')) & ((power.year > 2005) & (power.year < 2010)) & ((power.category == 4.0) |(power.category == 12.0) | (power.category == 21.0))]\n",
    "target_power['quantity'].sum()"
   ]
  },
  {
   "cell_type": "code",
   "execution_count": 26,
   "id": "fe3d8fc6",
   "metadata": {},
   "outputs": [
    {
     "data": {
      "text/plain": [
       "[                                    Функция или метод  \\\n",
       " 0   S = 'str'; S = \"str\"; S = '''str'''; S = \"\"\"st...   \n",
       " 1                                  S = \"s\\np\\ta\\nbbb\"   \n",
       " 2                                  S = r\"C:\\temp\\new\"   \n",
       " 3                                         S = b\"byte\"   \n",
       " 4                                             S1 + S2   \n",
       " 5                                              S1 * 3   \n",
       " 6                                                S[i]   \n",
       " 7                                         S[i:j:step]   \n",
       " 8                                              len(S)   \n",
       " 9                          S.find(str, [start],[end])   \n",
       " 10                        S.rfind(str, [start],[end])   \n",
       " 11                        S.index(str, [start],[end])   \n",
       " 12                       S.rindex(str, [start],[end])   \n",
       " 13              S.replace(шаблон, замена[, maxcount])   \n",
       " 14                                    S.split(символ)   \n",
       " 15                                        S.isdigit()   \n",
       " 16                                        S.isalpha()   \n",
       " 17                                        S.isalnum()   \n",
       " 18                                        S.islower()   \n",
       " 19                                        S.isupper()   \n",
       " 20                                        S.isspace()   \n",
       " 21                                        S.istitle()   \n",
       " 22                                          S.upper()   \n",
       " 23                                          S.lower()   \n",
       " 24                                  S.startswith(str)   \n",
       " 25                                    S.endswith(str)   \n",
       " 26                                     S.join(список)   \n",
       " 27                                        ord(символ)   \n",
       " 28                                         chr(число)   \n",
       " 29                                     S.capitalize()   \n",
       " 30                            S.center(width, [fill])   \n",
       " 31                        S.count(str, [start],[end])   \n",
       " 32                            S.expandtabs([tabsize])   \n",
       " 33                                  S.lstrip([chars])   \n",
       " 34                                  S.rstrip([chars])   \n",
       " 35                                   S.strip([chars])   \n",
       " 36                                S.partition(шаблон)   \n",
       " 37                                  S.rpartition(sep)   \n",
       " 38                                       S.swapcase()   \n",
       " 39                                          S.title()   \n",
       " 40                                     S.zfill(width)   \n",
       " 41                       S.ljust(width, fillchar=\" \")   \n",
       " 42                       S.rjust(width, fillchar=\" \")   \n",
       " 43                          S.format(*args, **kwargs)   \n",
       " \n",
       "                                            Назначение  \n",
       " 0                                      Литералы строк  \n",
       " 1                   Экранированные последовательности  \n",
       " 2   Неформатированные строки (подавляют экранирова...  \n",
       " 3                                       Строка байтов  \n",
       " 4                       Конкатенация (сложение строк)  \n",
       " 5                                   Повторение строки  \n",
       " 6                                Обращение по индексу  \n",
       " 7                                    Извлечение среза  \n",
       " 8                                        Длина строки  \n",
       " 9   Поиск подстроки в строке. Возвращает номер пер...  \n",
       " 10  Поиск подстроки в строке. Возвращает номер пос...  \n",
       " 11  Поиск подстроки в строке. Возвращает номер пер...  \n",
       " 12  Поиск подстроки в строке. Возвращает номер пос...  \n",
       " 13  Замена шаблона на замену. maxcount ограничивае...  \n",
       " 14                    Разбиение строки по разделителю  \n",
       " 15                          Состоит ли строка из цифр  \n",
       " 16                          Состоит ли строка из букв  \n",
       " 17                 Состоит ли строка из цифр или букв  \n",
       " 18    Состоит ли строка из символов в нижнем регистре  \n",
       " 19   Состоит ли строка из символов в верхнем регистре  \n",
       " 20  Состоит ли строка из неотображаемых символов (...  \n",
       " 21     Начинаются ли слова в строке с заглавной буквы  \n",
       " 22          Преобразование строки к верхнему регистру  \n",
       " 23           Преобразование строки к нижнему регистру  \n",
       " 24               Начинается ли строка S с шаблона str  \n",
       " 25             Заканчивается ли строка S шаблоном str  \n",
       " 26           Сборка строки из списка с разделителем S  \n",
       " 27                             Символ в его код ASCII  \n",
       " 28                                 Код ASCII в символ  \n",
       " 29  Переводит первый символ строки в верхний регис...  \n",
       " 30  Возвращает отцентрованную строку, по краям кот...  \n",
       " 31  Возвращает количество непересекающихся вхожден...  \n",
       " 32  Возвращает копию строки, в которой все символы...  \n",
       " 33       Удаление пробельных символов в начале строки  \n",
       " 34        Удаление пробельных символов в конце строки  \n",
       " 35  Удаление пробельных символов в начале и в конц...  \n",
       " 36  Возвращает кортеж, содержащий часть перед перв...  \n",
       " 37  Возвращает кортеж, содержащий часть перед посл...  \n",
       " 38  Переводит символы нижнего регистра в верхний, ...  \n",
       " 39  Первую букву каждого слова переводит в верхний...  \n",
       " 40  Делает длину строки не меньшей width, по необх...  \n",
       " 41  Делает длину строки не меньшей width, по необх...  \n",
       " 42  Делает длину строки не меньшей width, по необх...  \n",
       " 43                              Форматирование строки  ]"
      ]
     },
     "execution_count": 26,
     "metadata": {},
     "output_type": "execute_result"
    }
   ],
   "source": [
    "list_site = pd.read_html('https://pythonworld.ru/tipy-dannyx-v-python/stroki-funkcii-i-metody-strok.html')\n",
    "list_site\n",
    "# df = pd.DataFrame(list_site)"
   ]
  }
 ],
 "metadata": {
  "kernelspec": {
   "display_name": "Python 3 (ipykernel)",
   "language": "python",
   "name": "python3"
  },
  "language_info": {
   "codemirror_mode": {
    "name": "ipython",
    "version": 3
   },
   "file_extension": ".py",
   "mimetype": "text/x-python",
   "name": "python",
   "nbconvert_exporter": "python",
   "pygments_lexer": "ipython3",
   "version": "3.11.4"
  }
 },
 "nbformat": 4,
 "nbformat_minor": 5
}
