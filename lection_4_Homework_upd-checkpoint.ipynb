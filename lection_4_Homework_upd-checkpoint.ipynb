{
 "cells": [
  {
   "cell_type": "code",
   "execution_count": 67,
   "id": "85b5c83a",
   "metadata": {},
   "outputs": [],
   "source": [
    "documents = [\n",
    "{'type': 'passport', 'number': '2207 876234', 'name': 'Василий Гупкин'},\n",
    "{'type': 'invoice', 'number': '11-2', 'name': 'Геннадий Покемонов'},\n",
    "{'type': 'insurance', 'number': '10006', 'name': 'Аристарх Павлов'}\n",
    "]\n",
    "\n",
    "\n",
    "directories = {\n",
    "'1': ['2207 876234', '11-2'],\n",
    "'2': ['10006'],\n",
    "'3': []\n",
    "}   "
   ]
  },
  {
   "cell_type": "code",
   "execution_count": 164,
   "id": "09fa1638",
   "metadata": {},
   "outputs": [
    {
     "name": "stdout",
     "output_type": "stream",
     "text": [
      "Введите номер документа: 12\n",
      "Документ не найден\n"
     ]
    }
   ],
   "source": [
    "def person():\n",
    "    user_input_1 = input('Введите номер документа: ')\n",
    "    doc_person = {}\n",
    "    for i in documents:\n",
    "        doc_person[i['number']] = i['name']\n",
    "\n",
    "    if user_input_1 in doc_person.keys():\n",
    "        print(doc_person[user_input_1])\n",
    "    else:\n",
    "        print('Документ не найден')\n",
    "            \n",
    "            \n",
    "person()"
   ]
  },
  {
   "cell_type": "code",
   "execution_count": 150,
   "id": "6b5fe505",
   "metadata": {},
   "outputs": [
    {
     "name": "stdout",
     "output_type": "stream",
     "text": [
      "Введите номер документа: 11-2\n",
      "1\n"
     ]
    }
   ],
   "source": [
    "def shelf():\n",
    "    user_input_2 = input('Введите номер документа: ')\n",
    "    shelf_num = {}\n",
    "    for k,v in directories.items():\n",
    "        for num in v:\n",
    "            shelf_num[num] = k\n",
    "    \n",
    "    if user_input_2 in shelf_num.keys():\n",
    "        print(shelf_num[user_input_2])\n",
    "    else:\n",
    "        print('Документ не найден')\n",
    "            \n",
    "            \n",
    "shelf()"
   ]
  },
  {
   "cell_type": "code",
   "execution_count": 4,
   "id": "b9d3a164",
   "metadata": {},
   "outputs": [
    {
     "name": "stdout",
     "output_type": "stream",
     "text": [
      "№ 2207 876234, тип: passport, владелец: Василий Гупкин, полка хранения: 1\n",
      "№ 11-2, тип: invoice, владелец: Геннадий Покемонов, полка хранения: 1\n",
      "№ 10006, тип: insurance, владелец: Аристарх Павлов, полка хранения: 2\n"
     ]
    }
   ],
   "source": [
    "def info():\n",
    "    for shelf, doc in directories.items():\n",
    "        for item in documents:\n",
    "            if item['number'] in doc:\n",
    "                print(f'№ {item[\"number\"]}, тип: {item[\"type\"]}, владелец: {item[\"name\"]}, полка хранения: {shelf}')\n",
    "            \n",
    "info()\n"
   ]
  },
  {
   "cell_type": "code",
   "execution_count": 161,
   "id": "d5c39584",
   "metadata": {},
   "outputs": [
    {
     "name": "stdout",
     "output_type": "stream",
     "text": [
      "Введите номер полки: 4\n",
      " Полка добавлена. Текущий перечень полок: 1, 2, 3, 4\n"
     ]
    }
   ],
   "source": [
    "def addition():\n",
    "    user_input_3 = input('Введите номер полки: ')\n",
    "    if user_input_3 not in directories.keys():\n",
    "        directories[user_input_3] = []\n",
    "        print(f' Полка добавлена. Текущий перечень полок: {\", \".join(list(directories.keys()))}')\n",
    "    else: print(f'Полка уже добавлена.Текущий перечень полок: {\", \".join(list(directories.keys()))}')\n",
    "        \n",
    "addition()"
   ]
  },
  {
   "cell_type": "code",
   "execution_count": 162,
   "id": "82828d2e",
   "metadata": {},
   "outputs": [
    {
     "name": "stdout",
     "output_type": "stream",
     "text": [
      "Введите номер полки: 4\n",
      "Полка удалена. Текущий перечень полок: 1, 2, 3\n"
     ]
    }
   ],
   "source": [
    "def deletion():\n",
    "    user_input_4 = input('Введите номер полки: ')\n",
    "    if user_input_4 in directories.keys() and len(directories[user_input_4]) == 0:\n",
    "        del directories[user_input_4]\n",
    "        print(f'Полка удалена. Текущий перечень полок: {\", \".join(list(directories.keys()))}')\n",
    "    elif user_input_4 in directories.keys() and len(directories[user_input_4]) != 0:\n",
    "        print(f'На полке есть документа, удалите их перед удалением полки. Текущий перечень полок: {\", \".join(list(directories.keys()))}')\n",
    "    else:     \n",
    "        print(f'Такой полки не существует. Текущий перечень полок: {\", \".join(list(directories.keys()))}')\n",
    "deletion()"
   ]
  },
  {
   "cell_type": "code",
   "execution_count": 116,
   "id": "ae2ac9b8",
   "metadata": {},
   "outputs": [],
   "source": [
    "def catalogue():\n",
    "    while True:\n",
    "        user_input = input('Введите команду ')\n",
    "        if user_input == 'q':\n",
    "            break\n",
    "\n",
    "        if user_input == 'p':\n",
    "            person()\n",
    "        elif user_input == 's':\n",
    "            shelf()\n",
    "        elif user_input == 'l':\n",
    "            info()\n",
    "        elif user_input == 'ads':\n",
    "            addition()\n",
    "        elif user_input == 'ds':\n",
    "            deletion()"
   ]
  },
  {
   "cell_type": "code",
   "execution_count": 165,
   "id": "0f9f329b",
   "metadata": {},
   "outputs": [
    {
     "name": "stdout",
     "output_type": "stream",
     "text": [
      "Введите команду p\n",
      "Введите номер документа: 11-2\n",
      "Геннадий Покемонов\n",
      "Введите команду s\n",
      "Введите номер документа: 10006\n",
      "2\n",
      "Введите команду l\n",
      "№ 2207 876234, тип: passport, владелец: Василий Гупкин, полка хранения: 1\n",
      "№ 11-2, тип: invoice, владелец: Геннадий Покемонов, полка хранения: 1\n",
      "№ 10006, тип: insurance, владелец: Аристарх Павлов, полка хранения: 2\n",
      "Введите команду ads\n",
      "Введите номер полки: 5\n",
      " Полка добавлена. Текущий перечень полок: 1, 2, 3, 5\n",
      "Введите команду ds\n",
      "Введите номер полки: 5\n",
      "Полка удалена. Текущий перечень полок: 1, 2, 3\n",
      "Введите команду q\n"
     ]
    }
   ],
   "source": [
    "catalogue()"
   ]
  }
 ],
 "metadata": {
  "kernelspec": {
   "display_name": "Python 3 (ipykernel)",
   "language": "python",
   "name": "python3"
  },
  "language_info": {
   "codemirror_mode": {
    "name": "ipython",
    "version": 3
   },
   "file_extension": ".py",
   "mimetype": "text/x-python",
   "name": "python",
   "nbconvert_exporter": "python",
   "pygments_lexer": "ipython3",
   "version": "3.9.7"
  }
 },
 "nbformat": 4,
 "nbformat_minor": 5
}
