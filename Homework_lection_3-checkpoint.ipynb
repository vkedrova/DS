{
 "cells": [
  {
   "cell_type": "code",
   "execution_count": 23,
   "id": "3f02bdaa",
   "metadata": {
    "scrolled": true
   },
   "outputs": [
    {
     "name": "stdout",
     "output_type": "stream",
     "text": [
      "[213, 15, 54, 119, 98, 35]\n"
     ]
    }
   ],
   "source": [
    "ids = {'user1': [213, 213, 213, 15, 213],\n",
    "'user2': [54, 54, 119, 119, 119],\n",
    "'user3': [213, 98, 98, 35]}\n",
    "\n",
    "geo = []\n",
    "for i in list(ids.values()):\n",
    "    for j in i:\n",
    "        if j not in geo:\n",
    "            geo.append(j)\n",
    "\n",
    "print(geo)\n"
   ]
  },
  {
   "cell_type": "code",
   "execution_count": 60,
   "id": "d0e8803e",
   "metadata": {},
   "outputs": [
    {
     "name": "stdout",
     "output_type": "stream",
     "text": [
      "Поисковых запросов, содержащих 3 слов(а): 50.0 %\n",
      "Поисковых запросов, содержащих 2 слов(а): 37.5 %\n",
      "Поисковых запросов, содержащих 4 слов(а): 12.5 %\n"
     ]
    }
   ],
   "source": [
    "queries = [\n",
    "'смотреть сериалы онлайн',\n",
    "'новости спорта',\n",
    "'афиша кино',\n",
    "'курс доллара',\n",
    "'сериалы этим летом',\n",
    "'курс по питону',\n",
    "'сериалы про спорт',\n",
    "'запрос на 4 слова'\n",
    "]\n",
    "\n",
    "counter = []\n",
    "counter_uniq = []\n",
    "\n",
    "for i in queries:\n",
    "    counter.append(len(i.split( )))\n",
    "\n",
    "for item in counter:\n",
    "    if item not in counter_uniq:\n",
    "        counter_uniq.append(item)\n",
    "\n",
    "for num in counter_uniq:\n",
    "    if num in counter:\n",
    "        print(f'Поисковых запросов, содержащих {num} слов(а): {round(counter.count(num) / len(queries) * 100, 2)} %')"
   ]
  },
  {
   "cell_type": "code",
   "execution_count": 67,
   "id": "b0e7eb35",
   "metadata": {},
   "outputs": [
    {
     "name": "stdout",
     "output_type": "stream",
     "text": [
      "Максимальный объем продаж на рекламном канале: vk\n"
     ]
    }
   ],
   "source": [
    "stats = {'facebook': 55, 'yandex': 115, 'vk': 120, 'google': 99, 'email': 42, 'ok': 98}\n",
    "\n",
    "stats_r = dict(zip(list(stats.values()), list(stats.keys())))\n",
    "\n",
    "print(f'Максимальный объем продаж на рекламном канале: {stats_r[max(list(stats_r.keys()))]}')"
   ]
  },
  {
   "cell_type": "code",
   "execution_count": 81,
   "id": "bca774b4",
   "metadata": {},
   "outputs": [
    {
     "name": "stdout",
     "output_type": "stream",
     "text": [
      "{'vk': {'revenue': 103, 'cost': 98, 'ROI': 5.1}, 'yandex': {'revenue': 179, 'cost': 153, 'ROI': 16.99}, 'facebook': {'revenue': 103, 'cost': 110, 'ROI': -6.36}, 'adwords': {'revenue': 35, 'cost': 34, 'ROI': 2.94}, 'twitter': {'revenue': 11, 'cost': 24, 'ROI': -54.17}}\n"
     ]
    }
   ],
   "source": [
    "results = {\n",
    "'vk': {'revenue': 103, 'cost': 98},\n",
    "'yandex': {'revenue': 179, 'cost': 153},\n",
    "'facebook': {'revenue': 103, 'cost': 110},\n",
    "'adwords': {'revenue': 35, 'cost': 34},\n",
    "'twitter': {'revenue': 11, 'cost': 24},\n",
    "}\n",
    "\n",
    "list_res = list(results.values())\n",
    "\n",
    "for i in list_res:\n",
    "    roi_count = round((((i['revenue'] / i['cost']) - 1) * 100), 2)\n",
    "    i['ROI'] = roi_count\n",
    "\n",
    "print(results)\n"
   ]
  }
 ],
 "metadata": {
  "kernelspec": {
   "display_name": "Python 3 (ipykernel)",
   "language": "python",
   "name": "python3"
  },
  "language_info": {
   "codemirror_mode": {
    "name": "ipython",
    "version": 3
   },
   "file_extension": ".py",
   "mimetype": "text/x-python",
   "name": "python",
   "nbconvert_exporter": "python",
   "pygments_lexer": "ipython3",
   "version": "3.9.7"
  }
 },
 "nbformat": 4,
 "nbformat_minor": 5
}
