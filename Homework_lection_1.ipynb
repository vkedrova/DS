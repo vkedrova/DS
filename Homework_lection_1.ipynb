{
 "cells": [
  {
   "cell_type": "code",
   "execution_count": 2,
   "id": "06c6233a",
   "metadata": {},
   "outputs": [
    {
     "name": "stdout",
     "output_type": "stream",
     "text": [
      "640Кб должно хватить для любых задач. Билл Гейтс (по легенде)\n",
      "Насколько проще было бы писать программы, если бы не заказчики\n",
      "Фраза 2 длиннее фразы 1\n"
     ]
    }
   ],
   "source": [
    "phrase_1 = input()\n",
    "phrase_2 = input()\n",
    "\n",
    "if len(phrase_1) > len(phrase_2):\n",
    "    print('Фраза 1 длиннее фразы 2')\n",
    "elif len(phrase_1) < len(phrase_2):\n",
    "    print('Фраза 2 длиннее фразы 1')\n",
    "elif len(phrase_1) == len(phrase_2):\n",
    "    print('Фразы равной длины')"
   ]
  },
  {
   "cell_type": "code",
   "execution_count": 7,
   "id": "4f98a969",
   "metadata": {},
   "outputs": [
    {
     "name": "stdout",
     "output_type": "stream",
     "text": [
      "2019\n",
      "Обычный год\n"
     ]
    }
   ],
   "source": [
    "year = int(input())\n",
    "\n",
    "if year % 4 == 0 and year % 100 != 0:\n",
    "    print('Високосный год')\n",
    "else:\n",
    "    print('Обычный год')"
   ]
  },
  {
   "cell_type": "code",
   "execution_count": 23,
   "id": "993d0798",
   "metadata": {},
   "outputs": [
    {
     "name": "stdout",
     "output_type": "stream",
     "text": [
      "Введите дату рождения 31\n",
      "Введите месяц рождения января\n",
      "Ошибка ввода\n"
     ]
    }
   ],
   "source": [
    "d = int(input('Введите дату рождения '))\n",
    "m = input('Введите месяц рождения ')\n",
    "\n",
    "if (20 <= d <= 31 and m == 'январь') or (1 <= d <= 19 and m == 'февраль'):\n",
    "    print('Водолей')\n",
    "elif (20 <= d <= 29 and m == 'февраль') or (1 <= d <= 20 and m == 'март'):\n",
    "    print('Рыбы')\n",
    "elif (21 <= d <= 31 and m == 'март') or (1 <= d <= 19 and m == 'апрель'):\n",
    "    print('Овен')\n",
    "elif (20 <= d <= 30 and m == 'апрель') or (1 <= d <= 20 and m == 'май'):\n",
    "    print('Телец')\n",
    "elif (21 <= d <= 31 and m == 'май') or (1 <= d <= 20 and m == 'июнь'):\n",
    "    print('Близнецы')\n",
    "elif (21 <= d <= 31 and m == 'май') or (1 <= d <= 20 and m == 'июнь'):\n",
    "    print('Близнецы')\n",
    "elif (21 <= d <= 30 and m == 'июнь') or (1 <= d <= 22 and m == 'июль'):\n",
    "    print('Рак')\n",
    "elif (23 <= d <= 31 and m == 'июль') or (1 <= d <= 22 and m == 'августа'):\n",
    "    print('Лев')\n",
    "elif (23 <= d <= 31 and m == 'августа') or (1 <= d <= 22 and m == 'сентябрь'):\n",
    "    print('Дева')\n",
    "elif (23 <= d <= 30 and m == 'сентябрь') or (1 <= d <= 23 and m == 'октябрь'):\n",
    "    print('Весы')\n",
    "elif (24 <= d <= 31 and m == 'октябрь') or (1 <= d <= 22 and m == 'ноябрь'):\n",
    "    print('Скорпион')\n",
    "elif (23 <= d <= 30 and m == 'ноябрь') or (1 <= d <= 21 and m == 'декабрь'):\n",
    "    print('Стрелец')\n",
    "elif (22 <= d <= 31 and m == 'декабрь') or (1 <= d <= 19 and m == 'январь'):\n",
    "    print('Козерог')\n",
    "else: print('Ошибка ввода')"
   ]
  },
  {
   "cell_type": "code",
   "execution_count": 26,
   "id": "0715fb9f",
   "metadata": {},
   "outputs": [
    {
     "name": "stdout",
     "output_type": "stream",
     "text": [
      "10\n",
      "2500\n",
      "15\n",
      "Упаковка для лыж\n"
     ]
    }
   ],
   "source": [
    "w = int(input())\n",
    "l = int(input())\n",
    "h = int(input())\n",
    "\n",
    "if w <= 15 and l <= 15 and h <= 15:\n",
    "    print('Коробка №1')\n",
    "elif 15 < w < 50 or 15 < l < 50 or 15 < h < 50:\n",
    "    print('Коробка №2')\n",
    "elif l > 2000:\n",
    "    print('Упаковка для лыж')\n",
    "else: print('Стандартная коробка №3')"
   ]
  },
  {
   "cell_type": "code",
   "execution_count": 35,
   "id": "c39c2ad3",
   "metadata": {},
   "outputs": [
    {
     "name": "stdout",
     "output_type": "stream",
     "text": [
      "123321\n",
      "Счастливый билет\n"
     ]
    }
   ],
   "source": [
    "a = int(input())\n",
    "\n",
    "if a > 99999:\n",
    "    n6 = a % 10\n",
    "    n5 = (a % (10 ** 2)) // 10\n",
    "    n4 = (a % (10 ** 3)) // (10 ** 2)\n",
    "    n3 = (a % (10 ** 4)) // (10 ** 3)\n",
    "    n2 = (a % (10 ** 5)) // (10 ** 4)\n",
    "    n1 = (a % (10 ** 6)) // (10 ** 5)\n",
    "    if (n6 + n5 + n4) == (n3 + n2 + n1):\n",
    "        print('Счастливый билет')\n",
    "    else: print('Несчастливый билет')\n",
    "else: print('Ошибка ввода')"
   ]
  },
  {
   "cell_type": "code",
   "execution_count": 40,
   "id": "c2aa529e",
   "metadata": {},
   "outputs": [
    {
     "name": "stdout",
     "output_type": "stream",
     "text": [
      "Введите тип фигуры прямоугольник\n",
      "Введите ширину 15\n",
      "Введите длину 12\n",
      "Площадь прямоугольника 180\n"
     ]
    }
   ],
   "source": [
    "from math import *\n",
    "type1 = input('Введите тип фигуры ')\n",
    "\n",
    "if type1 == 'круг':\n",
    "    r = int(input('Введите радиус круга '))\n",
    "    print('Площадь круга', pi * (r ** 2) )\n",
    "elif type1 == 'треугольник':\n",
    "    a = int(input('Введите длину стороны А' ))\n",
    "    b = int(input('Введите длину стороны B' ))    \n",
    "    c = int(input('Введите длину стороны C' ))\n",
    "    p = (a + b + c) / 2\n",
    "    s = sqrt(p * (p - a) * (p - b) * (p - b))\n",
    "    print('Площадь треугольника', s)\n",
    "elif type1 == 'прямоугольник':\n",
    "    w = int(input('Введите ширину '))\n",
    "    l = int(input('Введите длину '))\n",
    "    print('Площадь прямоугольника', w * l)\n",
    "else: print('Ошибка')"
   ]
  }
 ],
 "metadata": {
  "kernelspec": {
   "display_name": "Python 3 (ipykernel)",
   "language": "python",
   "name": "python3"
  },
  "language_info": {
   "codemirror_mode": {
    "name": "ipython",
    "version": 3
   },
   "file_extension": ".py",
   "mimetype": "text/x-python",
   "name": "python",
   "nbconvert_exporter": "python",
   "pygments_lexer": "ipython3",
   "version": "3.9.7"
  }
 },
 "nbformat": 4,
 "nbformat_minor": 5
}
