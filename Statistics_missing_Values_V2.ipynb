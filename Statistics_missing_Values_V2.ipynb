{
 "cells": [
  {
   "cell_type": "code",
   "execution_count": 1,
   "id": "0d1fbd26",
   "metadata": {},
   "outputs": [],
   "source": [
    "import pandas as pd"
   ]
  },
  {
   "cell_type": "code",
   "execution_count": 2,
   "id": "98b2b611",
   "metadata": {},
   "outputs": [],
   "source": [
    "hourse_data = pd.read_csv(r'C:\\Users\\vkedrova\\Desktop\\personal\\Python\\Data_Sciense_course\\Statistics\\horse_data.csv', usecols = [0, 1, 3, 4, 5, 6, 10, 22], names = ['surgery?', 'age','rectal temperature', 'pulse', 'respiratory rate', 'temperature of extremities','pain', 'outcome'] )"
   ]
  },
  {
   "cell_type": "markdown",
   "id": "59f6d382",
   "metadata": {},
   "source": [
    "# Задание 1: чтение данных"
   ]
  },
  {
   "cell_type": "code",
   "execution_count": 3,
   "id": "e5de7e03",
   "metadata": {},
   "outputs": [],
   "source": [
    "hourse_data = hourse_data.replace('?', None) # при чтении '?' не NA, заменила\n",
    "hourse_data = hourse_data.astype(float)"
   ]
  },
  {
   "cell_type": "code",
   "execution_count": 4,
   "id": "73181fab",
   "metadata": {},
   "outputs": [
    {
     "data": {
      "text/html": [
       "<div>\n",
       "<style scoped>\n",
       "    .dataframe tbody tr th:only-of-type {\n",
       "        vertical-align: middle;\n",
       "    }\n",
       "\n",
       "    .dataframe tbody tr th {\n",
       "        vertical-align: top;\n",
       "    }\n",
       "\n",
       "    .dataframe thead th {\n",
       "        text-align: right;\n",
       "    }\n",
       "</style>\n",
       "<table border=\"1\" class=\"dataframe\">\n",
       "  <thead>\n",
       "    <tr style=\"text-align: right;\">\n",
       "      <th></th>\n",
       "      <th>surgery?</th>\n",
       "      <th>age</th>\n",
       "      <th>rectal temperature</th>\n",
       "      <th>pulse</th>\n",
       "      <th>respiratory rate</th>\n",
       "      <th>temperature of extremities</th>\n",
       "      <th>pain</th>\n",
       "      <th>outcome</th>\n",
       "    </tr>\n",
       "  </thead>\n",
       "  <tbody>\n",
       "    <tr>\n",
       "      <th>0</th>\n",
       "      <td>2.0</td>\n",
       "      <td>1.0</td>\n",
       "      <td>38.5</td>\n",
       "      <td>66.0</td>\n",
       "      <td>28.0</td>\n",
       "      <td>3.0</td>\n",
       "      <td>5.0</td>\n",
       "      <td>2.0</td>\n",
       "    </tr>\n",
       "    <tr>\n",
       "      <th>1</th>\n",
       "      <td>1.0</td>\n",
       "      <td>1.0</td>\n",
       "      <td>39.2</td>\n",
       "      <td>88.0</td>\n",
       "      <td>20.0</td>\n",
       "      <td>NaN</td>\n",
       "      <td>3.0</td>\n",
       "      <td>3.0</td>\n",
       "    </tr>\n",
       "    <tr>\n",
       "      <th>2</th>\n",
       "      <td>2.0</td>\n",
       "      <td>1.0</td>\n",
       "      <td>38.3</td>\n",
       "      <td>40.0</td>\n",
       "      <td>24.0</td>\n",
       "      <td>1.0</td>\n",
       "      <td>3.0</td>\n",
       "      <td>1.0</td>\n",
       "    </tr>\n",
       "    <tr>\n",
       "      <th>3</th>\n",
       "      <td>1.0</td>\n",
       "      <td>9.0</td>\n",
       "      <td>39.1</td>\n",
       "      <td>164.0</td>\n",
       "      <td>84.0</td>\n",
       "      <td>4.0</td>\n",
       "      <td>2.0</td>\n",
       "      <td>2.0</td>\n",
       "    </tr>\n",
       "    <tr>\n",
       "      <th>4</th>\n",
       "      <td>2.0</td>\n",
       "      <td>1.0</td>\n",
       "      <td>37.3</td>\n",
       "      <td>104.0</td>\n",
       "      <td>35.0</td>\n",
       "      <td>NaN</td>\n",
       "      <td>NaN</td>\n",
       "      <td>2.0</td>\n",
       "    </tr>\n",
       "  </tbody>\n",
       "</table>\n",
       "</div>"
      ],
      "text/plain": [
       "   surgery?  age  rectal temperature  pulse  respiratory rate  \\\n",
       "0       2.0  1.0                38.5   66.0              28.0   \n",
       "1       1.0  1.0                39.2   88.0              20.0   \n",
       "2       2.0  1.0                38.3   40.0              24.0   \n",
       "3       1.0  9.0                39.1  164.0              84.0   \n",
       "4       2.0  1.0                37.3  104.0              35.0   \n",
       "\n",
       "   temperature of extremities  pain  outcome  \n",
       "0                         3.0   5.0      2.0  \n",
       "1                         NaN   3.0      3.0  \n",
       "2                         1.0   3.0      1.0  \n",
       "3                         4.0   2.0      2.0  \n",
       "4                         NaN   NaN      2.0  "
      ]
     },
     "execution_count": 4,
     "metadata": {},
     "output_type": "execute_result"
    }
   ],
   "source": [
    "hourse_data.head()"
   ]
  },
  {
   "cell_type": "code",
   "execution_count": 5,
   "id": "956a1d10",
   "metadata": {},
   "outputs": [
    {
     "data": {
      "text/plain": [
       "surgery?                      299\n",
       "age                           300\n",
       "rectal temperature            240\n",
       "pulse                         276\n",
       "respiratory rate              242\n",
       "temperature of extremities    244\n",
       "pain                          245\n",
       "outcome                       299\n",
       "dtype: int64"
      ]
     },
     "execution_count": 5,
     "metadata": {},
     "output_type": "execute_result"
    }
   ],
   "source": [
    "hourse_data.count()"
   ]
  },
  {
   "cell_type": "markdown",
   "id": "34049a0d",
   "metadata": {},
   "source": [
    "# Задание 2: Анализ данных, поиск выбросов"
   ]
  },
  {
   "cell_type": "code",
   "execution_count": 6,
   "id": "867ebf3f",
   "metadata": {
    "scrolled": true
   },
   "outputs": [
    {
     "data": {
      "text/html": [
       "<div>\n",
       "<style scoped>\n",
       "    .dataframe tbody tr th:only-of-type {\n",
       "        vertical-align: middle;\n",
       "    }\n",
       "\n",
       "    .dataframe tbody tr th {\n",
       "        vertical-align: top;\n",
       "    }\n",
       "\n",
       "    .dataframe thead th {\n",
       "        text-align: right;\n",
       "    }\n",
       "</style>\n",
       "<table border=\"1\" class=\"dataframe\">\n",
       "  <thead>\n",
       "    <tr style=\"text-align: right;\">\n",
       "      <th></th>\n",
       "      <th>surgery?</th>\n",
       "      <th>age</th>\n",
       "      <th>rectal temperature</th>\n",
       "      <th>pulse</th>\n",
       "      <th>respiratory rate</th>\n",
       "      <th>temperature of extremities</th>\n",
       "      <th>pain</th>\n",
       "      <th>outcome</th>\n",
       "    </tr>\n",
       "  </thead>\n",
       "  <tbody>\n",
       "    <tr>\n",
       "      <th>count</th>\n",
       "      <td>299.000000</td>\n",
       "      <td>300.000000</td>\n",
       "      <td>240.000000</td>\n",
       "      <td>276.000000</td>\n",
       "      <td>242.000000</td>\n",
       "      <td>244.000000</td>\n",
       "      <td>245.00000</td>\n",
       "      <td>299.000000</td>\n",
       "    </tr>\n",
       "    <tr>\n",
       "      <th>mean</th>\n",
       "      <td>1.397993</td>\n",
       "      <td>1.640000</td>\n",
       "      <td>38.167917</td>\n",
       "      <td>71.913043</td>\n",
       "      <td>30.417355</td>\n",
       "      <td>2.348361</td>\n",
       "      <td>2.95102</td>\n",
       "      <td>1.551839</td>\n",
       "    </tr>\n",
       "    <tr>\n",
       "      <th>std</th>\n",
       "      <td>0.490305</td>\n",
       "      <td>2.173972</td>\n",
       "      <td>0.732289</td>\n",
       "      <td>28.630557</td>\n",
       "      <td>17.642231</td>\n",
       "      <td>1.045054</td>\n",
       "      <td>1.30794</td>\n",
       "      <td>0.737187</td>\n",
       "    </tr>\n",
       "    <tr>\n",
       "      <th>min</th>\n",
       "      <td>1.000000</td>\n",
       "      <td>1.000000</td>\n",
       "      <td>35.400000</td>\n",
       "      <td>30.000000</td>\n",
       "      <td>8.000000</td>\n",
       "      <td>1.000000</td>\n",
       "      <td>1.00000</td>\n",
       "      <td>1.000000</td>\n",
       "    </tr>\n",
       "    <tr>\n",
       "      <th>25%</th>\n",
       "      <td>1.000000</td>\n",
       "      <td>1.000000</td>\n",
       "      <td>37.800000</td>\n",
       "      <td>48.000000</td>\n",
       "      <td>18.500000</td>\n",
       "      <td>1.000000</td>\n",
       "      <td>2.00000</td>\n",
       "      <td>1.000000</td>\n",
       "    </tr>\n",
       "    <tr>\n",
       "      <th>50%</th>\n",
       "      <td>1.000000</td>\n",
       "      <td>1.000000</td>\n",
       "      <td>38.200000</td>\n",
       "      <td>64.000000</td>\n",
       "      <td>24.500000</td>\n",
       "      <td>3.000000</td>\n",
       "      <td>3.00000</td>\n",
       "      <td>1.000000</td>\n",
       "    </tr>\n",
       "    <tr>\n",
       "      <th>75%</th>\n",
       "      <td>2.000000</td>\n",
       "      <td>1.000000</td>\n",
       "      <td>38.500000</td>\n",
       "      <td>88.000000</td>\n",
       "      <td>36.000000</td>\n",
       "      <td>3.000000</td>\n",
       "      <td>4.00000</td>\n",
       "      <td>2.000000</td>\n",
       "    </tr>\n",
       "    <tr>\n",
       "      <th>max</th>\n",
       "      <td>2.000000</td>\n",
       "      <td>9.000000</td>\n",
       "      <td>40.800000</td>\n",
       "      <td>184.000000</td>\n",
       "      <td>96.000000</td>\n",
       "      <td>4.000000</td>\n",
       "      <td>5.00000</td>\n",
       "      <td>3.000000</td>\n",
       "    </tr>\n",
       "  </tbody>\n",
       "</table>\n",
       "</div>"
      ],
      "text/plain": [
       "         surgery?         age  rectal temperature       pulse  \\\n",
       "count  299.000000  300.000000          240.000000  276.000000   \n",
       "mean     1.397993    1.640000           38.167917   71.913043   \n",
       "std      0.490305    2.173972            0.732289   28.630557   \n",
       "min      1.000000    1.000000           35.400000   30.000000   \n",
       "25%      1.000000    1.000000           37.800000   48.000000   \n",
       "50%      1.000000    1.000000           38.200000   64.000000   \n",
       "75%      2.000000    1.000000           38.500000   88.000000   \n",
       "max      2.000000    9.000000           40.800000  184.000000   \n",
       "\n",
       "       respiratory rate  temperature of extremities       pain     outcome  \n",
       "count        242.000000                  244.000000  245.00000  299.000000  \n",
       "mean          30.417355                    2.348361    2.95102    1.551839  \n",
       "std           17.642231                    1.045054    1.30794    0.737187  \n",
       "min            8.000000                    1.000000    1.00000    1.000000  \n",
       "25%           18.500000                    1.000000    2.00000    1.000000  \n",
       "50%           24.500000                    3.000000    3.00000    1.000000  \n",
       "75%           36.000000                    3.000000    4.00000    2.000000  \n",
       "max           96.000000                    4.000000    5.00000    3.000000  "
      ]
     },
     "execution_count": 6,
     "metadata": {},
     "output_type": "execute_result"
    }
   ],
   "source": [
    "hourse_data.describe()"
   ]
  },
  {
   "cell_type": "code",
   "execution_count": 7,
   "id": "85d17437",
   "metadata": {},
   "outputs": [
    {
     "name": "stdout",
     "output_type": "stream",
     "text": [
      "38.2\n",
      "64.0\n",
      "24.5\n"
     ]
    }
   ],
   "source": [
    "print(hourse_data['rectal temperature'].median())\n",
    "print(hourse_data['pulse'].median())\n",
    "print(hourse_data['respiratory rate'].median())"
   ]
  },
  {
   "cell_type": "markdown",
   "id": "5a23494e",
   "metadata": {},
   "source": [
    "Для непрерывных данных находим среднее и медиану без выбросов"
   ]
  },
  {
   "cell_type": "code",
   "execution_count": 51,
   "id": "03ba37a4",
   "metadata": {},
   "outputs": [
    {
     "name": "stderr",
     "output_type": "stream",
     "text": [
      "C:\\Users\\vkedrova\\AppData\\Local\\Temp\\ipykernel_23356\\2662813383.py:8: FutureWarning: Boolean inputs to the `inclusive` argument are deprecated in favour of `both` or `neither`.\n",
      "  rec_temp[~rec_temp['rectal temperature'].between(lower_bound, upper_bound, inclusive=True)]\n"
     ]
    },
    {
     "data": {
      "text/html": [
       "<div>\n",
       "<style scoped>\n",
       "    .dataframe tbody tr th:only-of-type {\n",
       "        vertical-align: middle;\n",
       "    }\n",
       "\n",
       "    .dataframe tbody tr th {\n",
       "        vertical-align: top;\n",
       "    }\n",
       "\n",
       "    .dataframe thead th {\n",
       "        text-align: right;\n",
       "    }\n",
       "</style>\n",
       "<table border=\"1\" class=\"dataframe\">\n",
       "  <thead>\n",
       "    <tr style=\"text-align: right;\">\n",
       "      <th></th>\n",
       "      <th>surgery?</th>\n",
       "      <th>age</th>\n",
       "      <th>rectal temperature</th>\n",
       "      <th>pulse</th>\n",
       "      <th>respiratory rate</th>\n",
       "      <th>temperature of extremities</th>\n",
       "      <th>pain</th>\n",
       "      <th>outcome</th>\n",
       "    </tr>\n",
       "  </thead>\n",
       "  <tbody>\n",
       "    <tr>\n",
       "      <th>20</th>\n",
       "      <td>1.0</td>\n",
       "      <td>1.0</td>\n",
       "      <td>39.9</td>\n",
       "      <td>72.0</td>\n",
       "      <td>60.0</td>\n",
       "      <td>1.0</td>\n",
       "      <td>5.0</td>\n",
       "      <td>1.0</td>\n",
       "    </tr>\n",
       "    <tr>\n",
       "      <th>44</th>\n",
       "      <td>1.0</td>\n",
       "      <td>1.0</td>\n",
       "      <td>35.4</td>\n",
       "      <td>140.0</td>\n",
       "      <td>24.0</td>\n",
       "      <td>3.0</td>\n",
       "      <td>4.0</td>\n",
       "      <td>3.0</td>\n",
       "    </tr>\n",
       "    <tr>\n",
       "      <th>54</th>\n",
       "      <td>2.0</td>\n",
       "      <td>1.0</td>\n",
       "      <td>40.3</td>\n",
       "      <td>114.0</td>\n",
       "      <td>36.0</td>\n",
       "      <td>3.0</td>\n",
       "      <td>2.0</td>\n",
       "      <td>3.0</td>\n",
       "    </tr>\n",
       "    <tr>\n",
       "      <th>75</th>\n",
       "      <td>1.0</td>\n",
       "      <td>2.0</td>\n",
       "      <td>39.7</td>\n",
       "      <td>100.0</td>\n",
       "      <td>NaN</td>\n",
       "      <td>3.0</td>\n",
       "      <td>2.0</td>\n",
       "      <td>3.0</td>\n",
       "    </tr>\n",
       "    <tr>\n",
       "      <th>80</th>\n",
       "      <td>1.0</td>\n",
       "      <td>1.0</td>\n",
       "      <td>36.4</td>\n",
       "      <td>98.0</td>\n",
       "      <td>35.0</td>\n",
       "      <td>3.0</td>\n",
       "      <td>4.0</td>\n",
       "      <td>2.0</td>\n",
       "    </tr>\n",
       "    <tr>\n",
       "      <th>91</th>\n",
       "      <td>2.0</td>\n",
       "      <td>1.0</td>\n",
       "      <td>40.3</td>\n",
       "      <td>114.0</td>\n",
       "      <td>36.0</td>\n",
       "      <td>3.0</td>\n",
       "      <td>2.0</td>\n",
       "      <td>2.0</td>\n",
       "    </tr>\n",
       "    <tr>\n",
       "      <th>99</th>\n",
       "      <td>2.0</td>\n",
       "      <td>1.0</td>\n",
       "      <td>39.6</td>\n",
       "      <td>108.0</td>\n",
       "      <td>51.0</td>\n",
       "      <td>3.0</td>\n",
       "      <td>2.0</td>\n",
       "      <td>1.0</td>\n",
       "    </tr>\n",
       "    <tr>\n",
       "      <th>118</th>\n",
       "      <td>1.0</td>\n",
       "      <td>1.0</td>\n",
       "      <td>36.5</td>\n",
       "      <td>78.0</td>\n",
       "      <td>30.0</td>\n",
       "      <td>1.0</td>\n",
       "      <td>5.0</td>\n",
       "      <td>1.0</td>\n",
       "    </tr>\n",
       "    <tr>\n",
       "      <th>141</th>\n",
       "      <td>2.0</td>\n",
       "      <td>1.0</td>\n",
       "      <td>36.0</td>\n",
       "      <td>42.0</td>\n",
       "      <td>30.0</td>\n",
       "      <td>NaN</td>\n",
       "      <td>NaN</td>\n",
       "      <td>2.0</td>\n",
       "    </tr>\n",
       "    <tr>\n",
       "      <th>238</th>\n",
       "      <td>2.0</td>\n",
       "      <td>1.0</td>\n",
       "      <td>36.1</td>\n",
       "      <td>88.0</td>\n",
       "      <td>NaN</td>\n",
       "      <td>3.0</td>\n",
       "      <td>3.0</td>\n",
       "      <td>3.0</td>\n",
       "    </tr>\n",
       "    <tr>\n",
       "      <th>251</th>\n",
       "      <td>2.0</td>\n",
       "      <td>1.0</td>\n",
       "      <td>36.6</td>\n",
       "      <td>42.0</td>\n",
       "      <td>18.0</td>\n",
       "      <td>3.0</td>\n",
       "      <td>1.0</td>\n",
       "      <td>2.0</td>\n",
       "    </tr>\n",
       "    <tr>\n",
       "      <th>259</th>\n",
       "      <td>1.0</td>\n",
       "      <td>1.0</td>\n",
       "      <td>40.8</td>\n",
       "      <td>72.0</td>\n",
       "      <td>42.0</td>\n",
       "      <td>3.0</td>\n",
       "      <td>2.0</td>\n",
       "      <td>2.0</td>\n",
       "    </tr>\n",
       "    <tr>\n",
       "      <th>281</th>\n",
       "      <td>2.0</td>\n",
       "      <td>1.0</td>\n",
       "      <td>40.0</td>\n",
       "      <td>78.0</td>\n",
       "      <td>NaN</td>\n",
       "      <td>3.0</td>\n",
       "      <td>2.0</td>\n",
       "      <td>2.0</td>\n",
       "    </tr>\n",
       "    <tr>\n",
       "      <th>298</th>\n",
       "      <td>1.0</td>\n",
       "      <td>1.0</td>\n",
       "      <td>36.5</td>\n",
       "      <td>100.0</td>\n",
       "      <td>24.0</td>\n",
       "      <td>3.0</td>\n",
       "      <td>3.0</td>\n",
       "      <td>1.0</td>\n",
       "    </tr>\n",
       "  </tbody>\n",
       "</table>\n",
       "</div>"
      ],
      "text/plain": [
       "     surgery?  age  rectal temperature  pulse  respiratory rate  \\\n",
       "20        1.0  1.0                39.9   72.0              60.0   \n",
       "44        1.0  1.0                35.4  140.0              24.0   \n",
       "54        2.0  1.0                40.3  114.0              36.0   \n",
       "75        1.0  2.0                39.7  100.0               NaN   \n",
       "80        1.0  1.0                36.4   98.0              35.0   \n",
       "91        2.0  1.0                40.3  114.0              36.0   \n",
       "99        2.0  1.0                39.6  108.0              51.0   \n",
       "118       1.0  1.0                36.5   78.0              30.0   \n",
       "141       2.0  1.0                36.0   42.0              30.0   \n",
       "238       2.0  1.0                36.1   88.0               NaN   \n",
       "251       2.0  1.0                36.6   42.0              18.0   \n",
       "259       1.0  1.0                40.8   72.0              42.0   \n",
       "281       2.0  1.0                40.0   78.0               NaN   \n",
       "298       1.0  1.0                36.5  100.0              24.0   \n",
       "\n",
       "     temperature of extremities  pain  outcome  \n",
       "20                          1.0   5.0      1.0  \n",
       "44                          3.0   4.0      3.0  \n",
       "54                          3.0   2.0      3.0  \n",
       "75                          3.0   2.0      3.0  \n",
       "80                          3.0   4.0      2.0  \n",
       "91                          3.0   2.0      2.0  \n",
       "99                          3.0   2.0      1.0  \n",
       "118                         1.0   5.0      1.0  \n",
       "141                         NaN   NaN      2.0  \n",
       "238                         3.0   3.0      3.0  \n",
       "251                         3.0   1.0      2.0  \n",
       "259                         3.0   2.0      2.0  \n",
       "281                         3.0   2.0      2.0  \n",
       "298                         3.0   3.0      1.0  "
      ]
     },
     "execution_count": 51,
     "metadata": {},
     "output_type": "execute_result"
    }
   ],
   "source": [
    "rec_temp = hourse_data.dropna(subset = 'rectal temperature')\n",
    "q1 = rec_temp['rectal temperature'].quantile(0.25)\n",
    "q3 = rec_temp['rectal temperature'].quantile(0.75)\n",
    "iqr = q3 - q1\n",
    "lower_bound = q1 - (1.5 * iqr)\n",
    "upper_bound = q3 + (1.5 * iqr)\n",
    "\n",
    "rec_temp[~rec_temp['rectal temperature'].between(lower_bound, upper_bound, inclusive=True)]"
   ]
  },
  {
   "cell_type": "code",
   "execution_count": 52,
   "id": "7b604367",
   "metadata": {},
   "outputs": [
    {
     "name": "stdout",
     "output_type": "stream",
     "text": [
      "38.16902654867257\n",
      "38.2\n"
     ]
    },
    {
     "name": "stderr",
     "output_type": "stream",
     "text": [
      "C:\\Users\\vkedrova\\AppData\\Local\\Temp\\ipykernel_23356\\1805247126.py:1: FutureWarning: Boolean inputs to the `inclusive` argument are deprecated in favour of `both` or `neither`.\n",
      "  rec_temp = rec_temp[hourse_data['rectal temperature'].between(lower_bound, upper_bound, inclusive=True)]\n",
      "C:\\Users\\vkedrova\\AppData\\Local\\Temp\\ipykernel_23356\\1805247126.py:1: UserWarning: Boolean Series key will be reindexed to match DataFrame index.\n",
      "  rec_temp = rec_temp[hourse_data['rectal temperature'].between(lower_bound, upper_bound, inclusive=True)]\n"
     ]
    }
   ],
   "source": [
    "rec_temp = rec_temp[hourse_data['rectal temperature'].between(lower_bound, upper_bound, inclusive=True)]\n",
    "print(rec_temp['rectal temperature'].mean())\n",
    "print(rec_temp['rectal temperature'].median())"
   ]
  },
  {
   "cell_type": "code",
   "execution_count": 47,
   "id": "6e8b89f9",
   "metadata": {},
   "outputs": [
    {
     "name": "stderr",
     "output_type": "stream",
     "text": [
      "C:\\Users\\vkedrova\\AppData\\Local\\Temp\\ipykernel_23356\\1300240097.py:8: FutureWarning: Boolean inputs to the `inclusive` argument are deprecated in favour of `both` or `neither`.\n",
      "  pulse[~pulse['pulse'].between(lower_bound, upper_bound, inclusive=True)]\n"
     ]
    },
    {
     "data": {
      "text/html": [
       "<div>\n",
       "<style scoped>\n",
       "    .dataframe tbody tr th:only-of-type {\n",
       "        vertical-align: middle;\n",
       "    }\n",
       "\n",
       "    .dataframe tbody tr th {\n",
       "        vertical-align: top;\n",
       "    }\n",
       "\n",
       "    .dataframe thead th {\n",
       "        text-align: right;\n",
       "    }\n",
       "</style>\n",
       "<table border=\"1\" class=\"dataframe\">\n",
       "  <thead>\n",
       "    <tr style=\"text-align: right;\">\n",
       "      <th></th>\n",
       "      <th>surgery?</th>\n",
       "      <th>age</th>\n",
       "      <th>rectal temperature</th>\n",
       "      <th>pulse</th>\n",
       "      <th>respiratory rate</th>\n",
       "      <th>temperature of extremities</th>\n",
       "      <th>pain</th>\n",
       "      <th>outcome</th>\n",
       "    </tr>\n",
       "  </thead>\n",
       "  <tbody>\n",
       "    <tr>\n",
       "      <th>3</th>\n",
       "      <td>1.0</td>\n",
       "      <td>2.0</td>\n",
       "      <td>39.1</td>\n",
       "      <td>164.0</td>\n",
       "      <td>84.0</td>\n",
       "      <td>4.0</td>\n",
       "      <td>2.0</td>\n",
       "      <td>2.0</td>\n",
       "    </tr>\n",
       "    <tr>\n",
       "      <th>41</th>\n",
       "      <td>2.0</td>\n",
       "      <td>2.0</td>\n",
       "      <td>39.0</td>\n",
       "      <td>150.0</td>\n",
       "      <td>72.0</td>\n",
       "      <td>NaN</td>\n",
       "      <td>NaN</td>\n",
       "      <td>1.0</td>\n",
       "    </tr>\n",
       "    <tr>\n",
       "      <th>55</th>\n",
       "      <td>1.0</td>\n",
       "      <td>2.0</td>\n",
       "      <td>38.6</td>\n",
       "      <td>160.0</td>\n",
       "      <td>20.0</td>\n",
       "      <td>3.0</td>\n",
       "      <td>3.0</td>\n",
       "      <td>2.0</td>\n",
       "    </tr>\n",
       "    <tr>\n",
       "      <th>255</th>\n",
       "      <td>1.0</td>\n",
       "      <td>2.0</td>\n",
       "      <td>38.8</td>\n",
       "      <td>184.0</td>\n",
       "      <td>84.0</td>\n",
       "      <td>1.0</td>\n",
       "      <td>4.0</td>\n",
       "      <td>2.0</td>\n",
       "    </tr>\n",
       "    <tr>\n",
       "      <th>275</th>\n",
       "      <td>1.0</td>\n",
       "      <td>2.0</td>\n",
       "      <td>38.8</td>\n",
       "      <td>150.0</td>\n",
       "      <td>50.0</td>\n",
       "      <td>1.0</td>\n",
       "      <td>5.0</td>\n",
       "      <td>2.0</td>\n",
       "    </tr>\n",
       "  </tbody>\n",
       "</table>\n",
       "</div>"
      ],
      "text/plain": [
       "     surgery?  age  rectal temperature  pulse  respiratory rate  \\\n",
       "3         1.0  2.0                39.1  164.0              84.0   \n",
       "41        2.0  2.0                39.0  150.0              72.0   \n",
       "55        1.0  2.0                38.6  160.0              20.0   \n",
       "255       1.0  2.0                38.8  184.0              84.0   \n",
       "275       1.0  2.0                38.8  150.0              50.0   \n",
       "\n",
       "     temperature of extremities  pain  outcome  \n",
       "3                           4.0   2.0      2.0  \n",
       "41                          NaN   NaN      1.0  \n",
       "55                          3.0   3.0      2.0  \n",
       "255                         1.0   4.0      2.0  \n",
       "275                         1.0   5.0      2.0  "
      ]
     },
     "execution_count": 47,
     "metadata": {},
     "output_type": "execute_result"
    }
   ],
   "source": [
    "pulse = hourse_data.dropna(subset = 'pulse')\n",
    "q1 = pulse['pulse'].quantile(0.25)\n",
    "q3 = pulse['pulse'].quantile(0.75)\n",
    "iqr = q3 - q1\n",
    "lower_bound = q1 - (1.5 * iqr)\n",
    "upper_bound = q3 + (1.5 * iqr)\n",
    "\n",
    "pulse[~pulse['pulse'].between(lower_bound, upper_bound, inclusive=True)]"
   ]
  },
  {
   "cell_type": "code",
   "execution_count": 48,
   "id": "2d2893bc",
   "metadata": {},
   "outputs": [
    {
     "name": "stdout",
     "output_type": "stream",
     "text": [
      "70.25830258302582\n",
      "64.0\n"
     ]
    },
    {
     "name": "stderr",
     "output_type": "stream",
     "text": [
      "C:\\Users\\vkedrova\\AppData\\Local\\Temp\\ipykernel_23356\\2597394551.py:1: FutureWarning: Boolean inputs to the `inclusive` argument are deprecated in favour of `both` or `neither`.\n",
      "  pulse = pulse[pulse['pulse'].between(lower_bound, upper_bound, inclusive=True)]\n"
     ]
    }
   ],
   "source": [
    "pulse = pulse[pulse['pulse'].between(lower_bound, upper_bound, inclusive=True)]\n",
    "print(pulse['pulse'].mean())\n",
    "print(pulse['pulse'].median())"
   ]
  },
  {
   "cell_type": "code",
   "execution_count": 49,
   "id": "1bea602d",
   "metadata": {},
   "outputs": [
    {
     "name": "stderr",
     "output_type": "stream",
     "text": [
      "C:\\Users\\vkedrova\\AppData\\Local\\Temp\\ipykernel_23356\\2181505474.py:8: FutureWarning: Boolean inputs to the `inclusive` argument are deprecated in favour of `both` or `neither`.\n",
      "  resp_rate[~resp_rate['respiratory rate'].between(lower_bound, upper_bound, inclusive=True)]\n"
     ]
    },
    {
     "data": {
      "text/html": [
       "<div>\n",
       "<style scoped>\n",
       "    .dataframe tbody tr th:only-of-type {\n",
       "        vertical-align: middle;\n",
       "    }\n",
       "\n",
       "    .dataframe tbody tr th {\n",
       "        vertical-align: top;\n",
       "    }\n",
       "\n",
       "    .dataframe thead th {\n",
       "        text-align: right;\n",
       "    }\n",
       "</style>\n",
       "<table border=\"1\" class=\"dataframe\">\n",
       "  <thead>\n",
       "    <tr style=\"text-align: right;\">\n",
       "      <th></th>\n",
       "      <th>surgery?</th>\n",
       "      <th>age</th>\n",
       "      <th>rectal temperature</th>\n",
       "      <th>pulse</th>\n",
       "      <th>respiratory rate</th>\n",
       "      <th>temperature of extremities</th>\n",
       "      <th>pain</th>\n",
       "      <th>outcome</th>\n",
       "    </tr>\n",
       "  </thead>\n",
       "  <tbody>\n",
       "    <tr>\n",
       "      <th>3</th>\n",
       "      <td>1.0</td>\n",
       "      <td>2.0</td>\n",
       "      <td>39.1</td>\n",
       "      <td>164.0</td>\n",
       "      <td>84.0</td>\n",
       "      <td>4.0</td>\n",
       "      <td>2.0</td>\n",
       "      <td>2.0</td>\n",
       "    </tr>\n",
       "    <tr>\n",
       "      <th>39</th>\n",
       "      <td>1.0</td>\n",
       "      <td>2.0</td>\n",
       "      <td>39.2</td>\n",
       "      <td>146.0</td>\n",
       "      <td>96.0</td>\n",
       "      <td>NaN</td>\n",
       "      <td>NaN</td>\n",
       "      <td>2.0</td>\n",
       "    </tr>\n",
       "    <tr>\n",
       "      <th>41</th>\n",
       "      <td>2.0</td>\n",
       "      <td>2.0</td>\n",
       "      <td>39.0</td>\n",
       "      <td>150.0</td>\n",
       "      <td>72.0</td>\n",
       "      <td>NaN</td>\n",
       "      <td>NaN</td>\n",
       "      <td>1.0</td>\n",
       "    </tr>\n",
       "    <tr>\n",
       "      <th>82</th>\n",
       "      <td>1.0</td>\n",
       "      <td>2.0</td>\n",
       "      <td>38.1</td>\n",
       "      <td>100.0</td>\n",
       "      <td>80.0</td>\n",
       "      <td>3.0</td>\n",
       "      <td>3.0</td>\n",
       "      <td>1.0</td>\n",
       "    </tr>\n",
       "    <tr>\n",
       "      <th>84</th>\n",
       "      <td>1.0</td>\n",
       "      <td>1.0</td>\n",
       "      <td>37.8</td>\n",
       "      <td>60.0</td>\n",
       "      <td>80.0</td>\n",
       "      <td>1.0</td>\n",
       "      <td>2.0</td>\n",
       "      <td>1.0</td>\n",
       "    </tr>\n",
       "    <tr>\n",
       "      <th>103</th>\n",
       "      <td>1.0</td>\n",
       "      <td>2.0</td>\n",
       "      <td>38.0</td>\n",
       "      <td>140.0</td>\n",
       "      <td>68.0</td>\n",
       "      <td>1.0</td>\n",
       "      <td>3.0</td>\n",
       "      <td>1.0</td>\n",
       "    </tr>\n",
       "    <tr>\n",
       "      <th>106</th>\n",
       "      <td>1.0</td>\n",
       "      <td>1.0</td>\n",
       "      <td>38.3</td>\n",
       "      <td>52.0</td>\n",
       "      <td>96.0</td>\n",
       "      <td>NaN</td>\n",
       "      <td>NaN</td>\n",
       "      <td>1.0</td>\n",
       "    </tr>\n",
       "    <tr>\n",
       "      <th>120</th>\n",
       "      <td>1.0</td>\n",
       "      <td>1.0</td>\n",
       "      <td>39.4</td>\n",
       "      <td>54.0</td>\n",
       "      <td>66.0</td>\n",
       "      <td>1.0</td>\n",
       "      <td>2.0</td>\n",
       "      <td>1.0</td>\n",
       "    </tr>\n",
       "    <tr>\n",
       "      <th>125</th>\n",
       "      <td>1.0</td>\n",
       "      <td>1.0</td>\n",
       "      <td>38.0</td>\n",
       "      <td>42.0</td>\n",
       "      <td>68.0</td>\n",
       "      <td>4.0</td>\n",
       "      <td>3.0</td>\n",
       "      <td>1.0</td>\n",
       "    </tr>\n",
       "    <tr>\n",
       "      <th>186</th>\n",
       "      <td>1.0</td>\n",
       "      <td>1.0</td>\n",
       "      <td>39.3</td>\n",
       "      <td>64.0</td>\n",
       "      <td>90.0</td>\n",
       "      <td>2.0</td>\n",
       "      <td>NaN</td>\n",
       "      <td>1.0</td>\n",
       "    </tr>\n",
       "    <tr>\n",
       "      <th>208</th>\n",
       "      <td>1.0</td>\n",
       "      <td>1.0</td>\n",
       "      <td>37.8</td>\n",
       "      <td>88.0</td>\n",
       "      <td>80.0</td>\n",
       "      <td>3.0</td>\n",
       "      <td>NaN</td>\n",
       "      <td>3.0</td>\n",
       "    </tr>\n",
       "    <tr>\n",
       "      <th>229</th>\n",
       "      <td>1.0</td>\n",
       "      <td>2.0</td>\n",
       "      <td>38.5</td>\n",
       "      <td>120.0</td>\n",
       "      <td>70.0</td>\n",
       "      <td>NaN</td>\n",
       "      <td>NaN</td>\n",
       "      <td>1.0</td>\n",
       "    </tr>\n",
       "    <tr>\n",
       "      <th>244</th>\n",
       "      <td>1.0</td>\n",
       "      <td>2.0</td>\n",
       "      <td>38.2</td>\n",
       "      <td>124.0</td>\n",
       "      <td>88.0</td>\n",
       "      <td>1.0</td>\n",
       "      <td>2.0</td>\n",
       "      <td>1.0</td>\n",
       "    </tr>\n",
       "    <tr>\n",
       "      <th>255</th>\n",
       "      <td>1.0</td>\n",
       "      <td>2.0</td>\n",
       "      <td>38.8</td>\n",
       "      <td>184.0</td>\n",
       "      <td>84.0</td>\n",
       "      <td>1.0</td>\n",
       "      <td>4.0</td>\n",
       "      <td>2.0</td>\n",
       "    </tr>\n",
       "    <tr>\n",
       "      <th>265</th>\n",
       "      <td>2.0</td>\n",
       "      <td>1.0</td>\n",
       "      <td>NaN</td>\n",
       "      <td>56.0</td>\n",
       "      <td>68.0</td>\n",
       "      <td>3.0</td>\n",
       "      <td>3.0</td>\n",
       "      <td>3.0</td>\n",
       "    </tr>\n",
       "    <tr>\n",
       "      <th>269</th>\n",
       "      <td>1.0</td>\n",
       "      <td>1.0</td>\n",
       "      <td>39.3</td>\n",
       "      <td>64.0</td>\n",
       "      <td>90.0</td>\n",
       "      <td>2.0</td>\n",
       "      <td>NaN</td>\n",
       "      <td>1.0</td>\n",
       "    </tr>\n",
       "    <tr>\n",
       "      <th>295</th>\n",
       "      <td>1.0</td>\n",
       "      <td>1.0</td>\n",
       "      <td>NaN</td>\n",
       "      <td>120.0</td>\n",
       "      <td>70.0</td>\n",
       "      <td>4.0</td>\n",
       "      <td>2.0</td>\n",
       "      <td>3.0</td>\n",
       "    </tr>\n",
       "  </tbody>\n",
       "</table>\n",
       "</div>"
      ],
      "text/plain": [
       "     surgery?  age  rectal temperature  pulse  respiratory rate  \\\n",
       "3         1.0  2.0                39.1  164.0              84.0   \n",
       "39        1.0  2.0                39.2  146.0              96.0   \n",
       "41        2.0  2.0                39.0  150.0              72.0   \n",
       "82        1.0  2.0                38.1  100.0              80.0   \n",
       "84        1.0  1.0                37.8   60.0              80.0   \n",
       "103       1.0  2.0                38.0  140.0              68.0   \n",
       "106       1.0  1.0                38.3   52.0              96.0   \n",
       "120       1.0  1.0                39.4   54.0              66.0   \n",
       "125       1.0  1.0                38.0   42.0              68.0   \n",
       "186       1.0  1.0                39.3   64.0              90.0   \n",
       "208       1.0  1.0                37.8   88.0              80.0   \n",
       "229       1.0  2.0                38.5  120.0              70.0   \n",
       "244       1.0  2.0                38.2  124.0              88.0   \n",
       "255       1.0  2.0                38.8  184.0              84.0   \n",
       "265       2.0  1.0                 NaN   56.0              68.0   \n",
       "269       1.0  1.0                39.3   64.0              90.0   \n",
       "295       1.0  1.0                 NaN  120.0              70.0   \n",
       "\n",
       "     temperature of extremities  pain  outcome  \n",
       "3                           4.0   2.0      2.0  \n",
       "39                          NaN   NaN      2.0  \n",
       "41                          NaN   NaN      1.0  \n",
       "82                          3.0   3.0      1.0  \n",
       "84                          1.0   2.0      1.0  \n",
       "103                         1.0   3.0      1.0  \n",
       "106                         NaN   NaN      1.0  \n",
       "120                         1.0   2.0      1.0  \n",
       "125                         4.0   3.0      1.0  \n",
       "186                         2.0   NaN      1.0  \n",
       "208                         3.0   NaN      3.0  \n",
       "229                         NaN   NaN      1.0  \n",
       "244                         1.0   2.0      1.0  \n",
       "255                         1.0   4.0      2.0  \n",
       "265                         3.0   3.0      3.0  \n",
       "269                         2.0   NaN      1.0  \n",
       "295                         4.0   2.0      3.0  "
      ]
     },
     "execution_count": 49,
     "metadata": {},
     "output_type": "execute_result"
    }
   ],
   "source": [
    "resp_rate = hourse_data.dropna(subset = 'respiratory rate')\n",
    "q1 = resp_rate['respiratory rate'].quantile(0.25)\n",
    "q3 = resp_rate['respiratory rate'].quantile(0.75)\n",
    "iqr = q3 - q1\n",
    "lower_bound = q1 - (1.5 * iqr)\n",
    "upper_bound = q3 + (1.5 * iqr)\n",
    "\n",
    "resp_rate[~resp_rate['respiratory rate'].between(lower_bound, upper_bound, inclusive=True)]"
   ]
  },
  {
   "cell_type": "code",
   "execution_count": 50,
   "id": "47a2b2eb",
   "metadata": {},
   "outputs": [
    {
     "name": "stdout",
     "output_type": "stream",
     "text": [
      "26.715555555555557\n",
      "24.0\n"
     ]
    },
    {
     "name": "stderr",
     "output_type": "stream",
     "text": [
      "C:\\Users\\vkedrova\\AppData\\Local\\Temp\\ipykernel_23356\\3242586881.py:1: FutureWarning: Boolean inputs to the `inclusive` argument are deprecated in favour of `both` or `neither`.\n",
      "  resp_rate = resp_rate[resp_rate['respiratory rate'].between(lower_bound, upper_bound, inclusive=True)]\n"
     ]
    }
   ],
   "source": [
    "resp_rate = resp_rate[resp_rate['respiratory rate'].between(lower_bound, upper_bound, inclusive=True)]\n",
    "print(resp_rate['respiratory rate'].mean())\n",
    "print(resp_rate['respiratory rate'].median())"
   ]
  },
  {
   "cell_type": "markdown",
   "id": "bd211a95",
   "metadata": {},
   "source": [
    "Для категориальных данных анализируем состав и находим моду"
   ]
  },
  {
   "cell_type": "code",
   "execution_count": 12,
   "id": "1d650271",
   "metadata": {},
   "outputs": [
    {
     "name": "stdout",
     "output_type": "stream",
     "text": [
      "1.0    276\n",
      "9.0     24\n",
      "Name: age, dtype: int64\n",
      "3.0    109\n",
      "1.0     78\n",
      "2.0     30\n",
      "4.0     27\n",
      "Name: temperature of extremities, dtype: int64\n",
      "3.0    67\n",
      "2.0    59\n",
      "5.0    42\n",
      "4.0    39\n",
      "1.0    38\n",
      "Name: pain, dtype: int64\n",
      "1.0    178\n",
      "2.0     77\n",
      "3.0     44\n",
      "Name: outcome, dtype: int64\n"
     ]
    }
   ],
   "source": [
    "print(hourse_data['age'].value_counts())\n",
    "print(hourse_data['temperature of extremities'].value_counts())\n",
    "print(hourse_data['pain'].value_counts())\n",
    "print(hourse_data['outcome'].value_counts())"
   ]
  },
  {
   "cell_type": "markdown",
   "id": "630f4d5c",
   "metadata": {},
   "source": [
    "Значения 9 в описании поля \"age\" нет, но есть значение 2, можно, что произошла ошибка"
   ]
  },
  {
   "cell_type": "code",
   "execution_count": 13,
   "id": "2866eedc",
   "metadata": {},
   "outputs": [
    {
     "data": {
      "text/plain": [
       "1.0    276\n",
       "2.0     24\n",
       "Name: age, dtype: int64"
      ]
     },
     "execution_count": 13,
     "metadata": {},
     "output_type": "execute_result"
    }
   ],
   "source": [
    "hourse_data['age'] = hourse_data['age'].replace(9, 2)\n",
    "hourse_data['age'].value_counts()"
   ]
  },
  {
   "cell_type": "code",
   "execution_count": 54,
   "id": "8df5c530",
   "metadata": {},
   "outputs": [
    {
     "name": "stdout",
     "output_type": "stream",
     "text": [
      "0    1.0\n",
      "Name: age, dtype: float64\n",
      "0    3.0\n",
      "Name: temperature of extremities, dtype: float64\n",
      "0    3.0\n",
      "Name: pain, dtype: float64\n",
      "0    1.0\n",
      "Name: outcome, dtype: float64\n"
     ]
    }
   ],
   "source": [
    "print(hourse_data['age'].mode([0]))\n",
    "print(hourse_data['temperature of extremities'].mode([0]))\n",
    "print(hourse_data['pain'].mode([0]))\n",
    "print(hourse_data['outcome'].mode([0]))"
   ]
  },
  {
   "cell_type": "markdown",
   "id": "23f931d8",
   "metadata": {},
   "source": [
    "# Задание 3: заполнение пропусков"
   ]
  },
  {
   "cell_type": "code",
   "execution_count": 14,
   "id": "723bdce8",
   "metadata": {},
   "outputs": [
    {
     "data": {
      "text/plain": [
       "surgery?                      299\n",
       "age                           300\n",
       "rectal temperature            240\n",
       "pulse                         276\n",
       "respiratory rate              242\n",
       "temperature of extremities    244\n",
       "pain                          245\n",
       "outcome                       299\n",
       "dtype: int64"
      ]
     },
     "execution_count": 14,
     "metadata": {},
     "output_type": "execute_result"
    }
   ],
   "source": [
    "hourse_data.count()"
   ]
  },
  {
   "cell_type": "code",
   "execution_count": 15,
   "id": "57e699cc",
   "metadata": {},
   "outputs": [],
   "source": [
    "upd_hourse_data = hourse_data.copy() "
   ]
  },
  {
   "cell_type": "markdown",
   "id": "c9d9aa74",
   "metadata": {},
   "source": [
    "В поле \"outcome\" есть одно неустановленное значение (3). Исходя из того, что другие параметры этого значения ближе к 2 (умершие животные), предложила бы заменить этот пропуск на 2, также можно предположить, что при данных параметрах у животного была операция"
   ]
  },
  {
   "cell_type": "code",
   "execution_count": 16,
   "id": "40f3650b",
   "metadata": {},
   "outputs": [
    {
     "data": {
      "text/html": [
       "<div>\n",
       "<style scoped>\n",
       "    .dataframe tbody tr th:only-of-type {\n",
       "        vertical-align: middle;\n",
       "    }\n",
       "\n",
       "    .dataframe tbody tr th {\n",
       "        vertical-align: top;\n",
       "    }\n",
       "\n",
       "    .dataframe thead th {\n",
       "        text-align: right;\n",
       "    }\n",
       "</style>\n",
       "<table border=\"1\" class=\"dataframe\">\n",
       "  <thead>\n",
       "    <tr style=\"text-align: right;\">\n",
       "      <th></th>\n",
       "      <th>surgery?</th>\n",
       "      <th>age</th>\n",
       "      <th>rectal temperature</th>\n",
       "      <th>pulse</th>\n",
       "      <th>respiratory rate</th>\n",
       "      <th>temperature of extremities</th>\n",
       "      <th>pain</th>\n",
       "      <th>outcome</th>\n",
       "    </tr>\n",
       "  </thead>\n",
       "  <tbody>\n",
       "    <tr>\n",
       "      <th>132</th>\n",
       "      <td>NaN</td>\n",
       "      <td>1.0</td>\n",
       "      <td>38.0</td>\n",
       "      <td>48.0</td>\n",
       "      <td>20.0</td>\n",
       "      <td>3.0</td>\n",
       "      <td>4.0</td>\n",
       "      <td>NaN</td>\n",
       "    </tr>\n",
       "  </tbody>\n",
       "</table>\n",
       "</div>"
      ],
      "text/plain": [
       "     surgery?  age  rectal temperature  pulse  respiratory rate  \\\n",
       "132       NaN  1.0                38.0   48.0              20.0   \n",
       "\n",
       "     temperature of extremities  pain  outcome  \n",
       "132                         3.0   4.0      NaN  "
      ]
     },
     "execution_count": 16,
     "metadata": {},
     "output_type": "execute_result"
    }
   ],
   "source": [
    "upd_hourse_data[upd_hourse_data['outcome'].isnull()]"
   ]
  },
  {
   "cell_type": "code",
   "execution_count": 17,
   "id": "1fc21180",
   "metadata": {},
   "outputs": [
    {
     "name": "stdout",
     "output_type": "stream",
     "text": [
      "outcome\n",
      "1.0    3.0\n",
      "2.0    5.0\n",
      "3.0    2.0\n",
      "Name: pain, dtype: float64\n",
      "outcome\n",
      "1.0    54.0\n",
      "2.0    86.0\n",
      "3.0    82.0\n",
      "Name: pulse, dtype: float64\n",
      "outcome\n",
      "1.0    38.20\n",
      "2.0    38.10\n",
      "3.0    38.05\n",
      "Name: rectal temperature, dtype: float64\n",
      "outcome\n",
      "1.0    1.0\n",
      "2.0    1.0\n",
      "3.0    1.0\n",
      "Name: age, dtype: float64\n",
      "outcome\n",
      "1.0    1.0\n",
      "2.0    3.0\n",
      "3.0    3.0\n",
      "Name: temperature of extremities, dtype: float64\n"
     ]
    }
   ],
   "source": [
    "print(upd_hourse_data.groupby(['outcome'])['pain'].agg(pd.Series.mode))\n",
    "print(upd_hourse_data.groupby(['outcome'])['pulse'].median())\n",
    "print(upd_hourse_data.groupby(['outcome'])['rectal temperature'].median())\n",
    "print(upd_hourse_data.groupby(['outcome'])['age'].agg(pd.Series.mode))\n",
    "print(upd_hourse_data.groupby(['outcome'])['temperature of extremities'].agg(pd.Series.mode))"
   ]
  },
  {
   "cell_type": "code",
   "execution_count": 18,
   "id": "b0ab4f55",
   "metadata": {},
   "outputs": [],
   "source": [
    "upd_hourse_data['outcome'] = upd_hourse_data['outcome'].fillna(2)\n",
    "upd_hourse_data['surgery?'] = upd_hourse_data['surgery?'].fillna(1)"
   ]
  },
  {
   "cell_type": "markdown",
   "id": "df2b414c",
   "metadata": {},
   "source": [
    "Температура конечностей у лошадок, которые умерли, была ожидаемо ниже, при этом у всех (оперированных и не оперированных) животных она снижена, имеет смысл заполнить модой в зависимости от исхода (outcome)"
   ]
  },
  {
   "cell_type": "code",
   "execution_count": 19,
   "id": "92994ac5",
   "metadata": {},
   "outputs": [
    {
     "name": "stdout",
     "output_type": "stream",
     "text": [
      "outcome\n",
      "1.0    1.0\n",
      "2.0    3.0\n",
      "3.0    3.0\n",
      "Name: temperature of extremities, dtype: float64\n",
      "surgery?\n",
      "1.0    3.0\n",
      "2.0    3.0\n",
      "Name: temperature of extremities, dtype: float64\n"
     ]
    }
   ],
   "source": [
    "print(upd_hourse_data.groupby(['outcome'])['temperature of extremities'].agg(pd.Series.mode))\n",
    "print(upd_hourse_data.groupby(['surgery?'])['temperature of extremities'].agg(pd.Series.mode))"
   ]
  },
  {
   "cell_type": "code",
   "execution_count": 20,
   "id": "b318f30d",
   "metadata": {},
   "outputs": [],
   "source": [
    "upd_hourse_data['temperature of extremities'] = upd_hourse_data['temperature of extremities'].fillna(upd_hourse_data.groupby('outcome')['temperature of extremities'].transform(lambda x: x.mode()[0]))"
   ]
  },
  {
   "cell_type": "markdown",
   "id": "43c60fe0",
   "metadata": {},
   "source": [
    "Кажется, что температура ниже у более старших животных, можно заполнить средним в зависимости от возраста"
   ]
  },
  {
   "cell_type": "code",
   "execution_count": 21,
   "id": "db044c1c",
   "metadata": {
    "scrolled": true
   },
   "outputs": [
    {
     "name": "stdout",
     "output_type": "stream",
     "text": [
      "age\n",
      "1.0    38.124545\n",
      "2.0    38.645000\n",
      "Name: rectal temperature, dtype: float64\n",
      "age\n",
      "1.0    38.1\n",
      "2.0    38.6\n",
      "Name: rectal temperature, dtype: float64\n"
     ]
    }
   ],
   "source": [
    "print(upd_hourse_data.groupby('age')['rectal temperature'].mean())\n",
    "print(upd_hourse_data.groupby('age')['rectal temperature'].median())"
   ]
  },
  {
   "cell_type": "code",
   "execution_count": 22,
   "id": "4f97635c",
   "metadata": {},
   "outputs": [],
   "source": [
    "upd_hourse_data['rectal temperature'] = upd_hourse_data['rectal temperature'].fillna(upd_hourse_data.groupby('age')['rectal temperature'].transform('mean'))"
   ]
  },
  {
   "cell_type": "markdown",
   "id": "75ad21e3",
   "metadata": {},
   "source": [
    "Пульс заметно снижен у животных, которым потребовалась операция"
   ]
  },
  {
   "cell_type": "code",
   "execution_count": 23,
   "id": "6401e4d4",
   "metadata": {},
   "outputs": [
    {
     "name": "stdout",
     "output_type": "stream",
     "text": [
      "surgery?\n",
      "1.0    76.224242\n",
      "2.0    65.504505\n",
      "Name: pulse, dtype: float64\n",
      "surgery?\n",
      "1.0    70.0\n",
      "2.0    56.0\n",
      "Name: pulse, dtype: float64\n"
     ]
    }
   ],
   "source": [
    "print(upd_hourse_data.groupby('surgery?')['pulse'].mean())\n",
    "print(upd_hourse_data.groupby('surgery?')['pulse'].median())"
   ]
  },
  {
   "cell_type": "code",
   "execution_count": 24,
   "id": "0cc39ff5",
   "metadata": {},
   "outputs": [],
   "source": [
    "upd_hourse_data['pulse'] = upd_hourse_data['pulse'].fillna(upd_hourse_data.groupby('surgery?')['pulse'].transform('median'))"
   ]
  },
  {
   "cell_type": "code",
   "execution_count": 25,
   "id": "9220712b",
   "metadata": {},
   "outputs": [
    {
     "name": "stdout",
     "output_type": "stream",
     "text": [
      "surgery?\n",
      "1.0    75.674033\n",
      "2.0    64.865546\n",
      "Name: pulse, dtype: float64\n",
      "surgery?\n",
      "1.0    70.0\n",
      "2.0    56.0\n",
      "Name: pulse, dtype: float64\n"
     ]
    }
   ],
   "source": [
    "print(upd_hourse_data.groupby('surgery?')['pulse'].mean())\n",
    "print(upd_hourse_data.groupby('surgery?')['pulse'].median())"
   ]
  },
  {
   "cell_type": "markdown",
   "id": "cfc1580b",
   "metadata": {},
   "source": [
    "Показатель respiratory rate по описанию имеет высокий уровень флуктуаций, однако, похоже, что у животных, которым была сделана операция, он ниже, можно заполнить средним/медианой.\n",
    "Т.к. они находятся далеко за пределами нормальных значений, описанных в справочном файле (8-10), реальном кейсе я бы не заполняла эти данные, в рамках упражнения предлагаю заполнить медианой"
   ]
  },
  {
   "cell_type": "code",
   "execution_count": 26,
   "id": "af6df742",
   "metadata": {},
   "outputs": [
    {
     "name": "stdout",
     "output_type": "stream",
     "text": [
      "surgery?\n",
      "1.0    33.282759\n",
      "2.0    26.134021\n",
      "Name: respiratory rate, dtype: float64\n",
      "surgery?\n",
      "1.0    28.0\n",
      "2.0    24.0\n",
      "Name: respiratory rate, dtype: float64\n"
     ]
    }
   ],
   "source": [
    "print(upd_hourse_data.groupby('surgery?')['respiratory rate'].mean())\n",
    "print(upd_hourse_data.groupby('surgery?')['respiratory rate'].median())"
   ]
  },
  {
   "cell_type": "code",
   "execution_count": 27,
   "id": "99b83d12",
   "metadata": {},
   "outputs": [],
   "source": [
    "upd_hourse_data['respiratory rate'] = upd_hourse_data['respiratory rate'].fillna(upd_hourse_data.groupby('surgery?')['respiratory rate'].transform('median'))"
   ]
  },
  {
   "cell_type": "markdown",
   "id": "e083a627",
   "metadata": {},
   "source": [
    "Среди животных, которым не потребовалась операция, боль была менее выражена, можно заполнить модой в зависимости от проведенной операции"
   ]
  },
  {
   "cell_type": "code",
   "execution_count": 28,
   "id": "b8f931fd",
   "metadata": {},
   "outputs": [
    {
     "name": "stdout",
     "output_type": "stream",
     "text": [
      "surgery?\n",
      "1.0    3.0\n",
      "2.0    1.0\n",
      "Name: pain, dtype: float64\n"
     ]
    }
   ],
   "source": [
    "print(upd_hourse_data.groupby(['surgery?'])['pain'].agg(pd.Series.mode))"
   ]
  },
  {
   "cell_type": "code",
   "execution_count": 29,
   "id": "ddf92c95",
   "metadata": {},
   "outputs": [],
   "source": [
    "upd_hourse_data['pain'] = upd_hourse_data['pain'].fillna(upd_hourse_data.groupby('surgery?')['pain'].transform(lambda x: x.mode()[0]))"
   ]
  },
  {
   "cell_type": "code",
   "execution_count": 30,
   "id": "81619361",
   "metadata": {},
   "outputs": [
    {
     "data": {
      "text/plain": [
       "surgery?                      300\n",
       "age                           300\n",
       "rectal temperature            300\n",
       "pulse                         300\n",
       "respiratory rate              300\n",
       "temperature of extremities    300\n",
       "pain                          300\n",
       "outcome                       300\n",
       "dtype: int64"
      ]
     },
     "execution_count": 30,
     "metadata": {},
     "output_type": "execute_result"
    }
   ],
   "source": [
    "upd_hourse_data.count()"
   ]
  },
  {
   "cell_type": "code",
   "execution_count": 31,
   "id": "66bed3f7",
   "metadata": {},
   "outputs": [
    {
     "data": {
      "text/html": [
       "<div>\n",
       "<style scoped>\n",
       "    .dataframe tbody tr th:only-of-type {\n",
       "        vertical-align: middle;\n",
       "    }\n",
       "\n",
       "    .dataframe tbody tr th {\n",
       "        vertical-align: top;\n",
       "    }\n",
       "\n",
       "    .dataframe thead th {\n",
       "        text-align: right;\n",
       "    }\n",
       "</style>\n",
       "<table border=\"1\" class=\"dataframe\">\n",
       "  <thead>\n",
       "    <tr style=\"text-align: right;\">\n",
       "      <th></th>\n",
       "      <th>surgery?</th>\n",
       "      <th>age</th>\n",
       "      <th>rectal temperature</th>\n",
       "      <th>pulse</th>\n",
       "      <th>respiratory rate</th>\n",
       "      <th>temperature of extremities</th>\n",
       "      <th>pain</th>\n",
       "      <th>outcome</th>\n",
       "    </tr>\n",
       "  </thead>\n",
       "  <tbody>\n",
       "    <tr>\n",
       "      <th>count</th>\n",
       "      <td>299.000000</td>\n",
       "      <td>300.000000</td>\n",
       "      <td>240.000000</td>\n",
       "      <td>276.000000</td>\n",
       "      <td>242.000000</td>\n",
       "      <td>244.000000</td>\n",
       "      <td>245.00000</td>\n",
       "      <td>299.000000</td>\n",
       "    </tr>\n",
       "    <tr>\n",
       "      <th>mean</th>\n",
       "      <td>1.397993</td>\n",
       "      <td>1.080000</td>\n",
       "      <td>38.167917</td>\n",
       "      <td>71.913043</td>\n",
       "      <td>30.417355</td>\n",
       "      <td>2.348361</td>\n",
       "      <td>2.95102</td>\n",
       "      <td>1.551839</td>\n",
       "    </tr>\n",
       "    <tr>\n",
       "      <th>std</th>\n",
       "      <td>0.490305</td>\n",
       "      <td>0.271746</td>\n",
       "      <td>0.732289</td>\n",
       "      <td>28.630557</td>\n",
       "      <td>17.642231</td>\n",
       "      <td>1.045054</td>\n",
       "      <td>1.30794</td>\n",
       "      <td>0.737187</td>\n",
       "    </tr>\n",
       "    <tr>\n",
       "      <th>min</th>\n",
       "      <td>1.000000</td>\n",
       "      <td>1.000000</td>\n",
       "      <td>35.400000</td>\n",
       "      <td>30.000000</td>\n",
       "      <td>8.000000</td>\n",
       "      <td>1.000000</td>\n",
       "      <td>1.00000</td>\n",
       "      <td>1.000000</td>\n",
       "    </tr>\n",
       "    <tr>\n",
       "      <th>25%</th>\n",
       "      <td>1.000000</td>\n",
       "      <td>1.000000</td>\n",
       "      <td>37.800000</td>\n",
       "      <td>48.000000</td>\n",
       "      <td>18.500000</td>\n",
       "      <td>1.000000</td>\n",
       "      <td>2.00000</td>\n",
       "      <td>1.000000</td>\n",
       "    </tr>\n",
       "    <tr>\n",
       "      <th>50%</th>\n",
       "      <td>1.000000</td>\n",
       "      <td>1.000000</td>\n",
       "      <td>38.200000</td>\n",
       "      <td>64.000000</td>\n",
       "      <td>24.500000</td>\n",
       "      <td>3.000000</td>\n",
       "      <td>3.00000</td>\n",
       "      <td>1.000000</td>\n",
       "    </tr>\n",
       "    <tr>\n",
       "      <th>75%</th>\n",
       "      <td>2.000000</td>\n",
       "      <td>1.000000</td>\n",
       "      <td>38.500000</td>\n",
       "      <td>88.000000</td>\n",
       "      <td>36.000000</td>\n",
       "      <td>3.000000</td>\n",
       "      <td>4.00000</td>\n",
       "      <td>2.000000</td>\n",
       "    </tr>\n",
       "    <tr>\n",
       "      <th>max</th>\n",
       "      <td>2.000000</td>\n",
       "      <td>2.000000</td>\n",
       "      <td>40.800000</td>\n",
       "      <td>184.000000</td>\n",
       "      <td>96.000000</td>\n",
       "      <td>4.000000</td>\n",
       "      <td>5.00000</td>\n",
       "      <td>3.000000</td>\n",
       "    </tr>\n",
       "  </tbody>\n",
       "</table>\n",
       "</div>"
      ],
      "text/plain": [
       "         surgery?         age  rectal temperature       pulse  \\\n",
       "count  299.000000  300.000000          240.000000  276.000000   \n",
       "mean     1.397993    1.080000           38.167917   71.913043   \n",
       "std      0.490305    0.271746            0.732289   28.630557   \n",
       "min      1.000000    1.000000           35.400000   30.000000   \n",
       "25%      1.000000    1.000000           37.800000   48.000000   \n",
       "50%      1.000000    1.000000           38.200000   64.000000   \n",
       "75%      2.000000    1.000000           38.500000   88.000000   \n",
       "max      2.000000    2.000000           40.800000  184.000000   \n",
       "\n",
       "       respiratory rate  temperature of extremities       pain     outcome  \n",
       "count        242.000000                  244.000000  245.00000  299.000000  \n",
       "mean          30.417355                    2.348361    2.95102    1.551839  \n",
       "std           17.642231                    1.045054    1.30794    0.737187  \n",
       "min            8.000000                    1.000000    1.00000    1.000000  \n",
       "25%           18.500000                    1.000000    2.00000    1.000000  \n",
       "50%           24.500000                    3.000000    3.00000    1.000000  \n",
       "75%           36.000000                    3.000000    4.00000    2.000000  \n",
       "max           96.000000                    4.000000    5.00000    3.000000  "
      ]
     },
     "execution_count": 31,
     "metadata": {},
     "output_type": "execute_result"
    }
   ],
   "source": [
    "hourse_data.describe()"
   ]
  },
  {
   "cell_type": "code",
   "execution_count": 32,
   "id": "e4064000",
   "metadata": {},
   "outputs": [
    {
     "data": {
      "text/html": [
       "<div>\n",
       "<style scoped>\n",
       "    .dataframe tbody tr th:only-of-type {\n",
       "        vertical-align: middle;\n",
       "    }\n",
       "\n",
       "    .dataframe tbody tr th {\n",
       "        vertical-align: top;\n",
       "    }\n",
       "\n",
       "    .dataframe thead th {\n",
       "        text-align: right;\n",
       "    }\n",
       "</style>\n",
       "<table border=\"1\" class=\"dataframe\">\n",
       "  <thead>\n",
       "    <tr style=\"text-align: right;\">\n",
       "      <th></th>\n",
       "      <th>surgery?</th>\n",
       "      <th>age</th>\n",
       "      <th>rectal temperature</th>\n",
       "      <th>pulse</th>\n",
       "      <th>respiratory rate</th>\n",
       "      <th>temperature of extremities</th>\n",
       "      <th>pain</th>\n",
       "      <th>outcome</th>\n",
       "    </tr>\n",
       "  </thead>\n",
       "  <tbody>\n",
       "    <tr>\n",
       "      <th>count</th>\n",
       "      <td>300.000000</td>\n",
       "      <td>300.000000</td>\n",
       "      <td>300.000000</td>\n",
       "      <td>300.000000</td>\n",
       "      <td>300.000000</td>\n",
       "      <td>300.000000</td>\n",
       "      <td>300.000000</td>\n",
       "      <td>300.000000</td>\n",
       "    </tr>\n",
       "    <tr>\n",
       "      <th>mean</th>\n",
       "      <td>1.396667</td>\n",
       "      <td>1.080000</td>\n",
       "      <td>38.166182</td>\n",
       "      <td>71.386667</td>\n",
       "      <td>29.656667</td>\n",
       "      <td>2.256667</td>\n",
       "      <td>2.840000</td>\n",
       "      <td>1.553333</td>\n",
       "    </tr>\n",
       "    <tr>\n",
       "      <th>std</th>\n",
       "      <td>0.490023</td>\n",
       "      <td>0.271746</td>\n",
       "      <td>0.657292</td>\n",
       "      <td>27.579083</td>\n",
       "      <td>15.938179</td>\n",
       "      <td>1.052528</td>\n",
       "      <td>1.270083</td>\n",
       "      <td>0.736408</td>\n",
       "    </tr>\n",
       "    <tr>\n",
       "      <th>min</th>\n",
       "      <td>1.000000</td>\n",
       "      <td>1.000000</td>\n",
       "      <td>35.400000</td>\n",
       "      <td>30.000000</td>\n",
       "      <td>8.000000</td>\n",
       "      <td>1.000000</td>\n",
       "      <td>1.000000</td>\n",
       "      <td>1.000000</td>\n",
       "    </tr>\n",
       "    <tr>\n",
       "      <th>25%</th>\n",
       "      <td>1.000000</td>\n",
       "      <td>1.000000</td>\n",
       "      <td>37.900000</td>\n",
       "      <td>48.000000</td>\n",
       "      <td>20.000000</td>\n",
       "      <td>1.000000</td>\n",
       "      <td>2.000000</td>\n",
       "      <td>1.000000</td>\n",
       "    </tr>\n",
       "    <tr>\n",
       "      <th>50%</th>\n",
       "      <td>1.000000</td>\n",
       "      <td>1.000000</td>\n",
       "      <td>38.124545</td>\n",
       "      <td>64.500000</td>\n",
       "      <td>28.000000</td>\n",
       "      <td>3.000000</td>\n",
       "      <td>3.000000</td>\n",
       "      <td>1.000000</td>\n",
       "    </tr>\n",
       "    <tr>\n",
       "      <th>75%</th>\n",
       "      <td>2.000000</td>\n",
       "      <td>1.000000</td>\n",
       "      <td>38.500000</td>\n",
       "      <td>88.000000</td>\n",
       "      <td>34.250000</td>\n",
       "      <td>3.000000</td>\n",
       "      <td>4.000000</td>\n",
       "      <td>2.000000</td>\n",
       "    </tr>\n",
       "    <tr>\n",
       "      <th>max</th>\n",
       "      <td>2.000000</td>\n",
       "      <td>2.000000</td>\n",
       "      <td>40.800000</td>\n",
       "      <td>184.000000</td>\n",
       "      <td>96.000000</td>\n",
       "      <td>4.000000</td>\n",
       "      <td>5.000000</td>\n",
       "      <td>3.000000</td>\n",
       "    </tr>\n",
       "  </tbody>\n",
       "</table>\n",
       "</div>"
      ],
      "text/plain": [
       "         surgery?         age  rectal temperature       pulse  \\\n",
       "count  300.000000  300.000000          300.000000  300.000000   \n",
       "mean     1.396667    1.080000           38.166182   71.386667   \n",
       "std      0.490023    0.271746            0.657292   27.579083   \n",
       "min      1.000000    1.000000           35.400000   30.000000   \n",
       "25%      1.000000    1.000000           37.900000   48.000000   \n",
       "50%      1.000000    1.000000           38.124545   64.500000   \n",
       "75%      2.000000    1.000000           38.500000   88.000000   \n",
       "max      2.000000    2.000000           40.800000  184.000000   \n",
       "\n",
       "       respiratory rate  temperature of extremities        pain     outcome  \n",
       "count        300.000000                  300.000000  300.000000  300.000000  \n",
       "mean          29.656667                    2.256667    2.840000    1.553333  \n",
       "std           15.938179                    1.052528    1.270083    0.736408  \n",
       "min            8.000000                    1.000000    1.000000    1.000000  \n",
       "25%           20.000000                    1.000000    2.000000    1.000000  \n",
       "50%           28.000000                    3.000000    3.000000    1.000000  \n",
       "75%           34.250000                    3.000000    4.000000    2.000000  \n",
       "max           96.000000                    4.000000    5.000000    3.000000  "
      ]
     },
     "execution_count": 32,
     "metadata": {},
     "output_type": "execute_result"
    }
   ],
   "source": [
    "upd_hourse_data.describe()"
   ]
  }
 ],
 "metadata": {
  "kernelspec": {
   "display_name": "Python 3 (ipykernel)",
   "language": "python",
   "name": "python3"
  },
  "language_info": {
   "codemirror_mode": {
    "name": "ipython",
    "version": 3
   },
   "file_extension": ".py",
   "mimetype": "text/x-python",
   "name": "python",
   "nbconvert_exporter": "python",
   "pygments_lexer": "ipython3",
   "version": "3.11.4"
  }
 },
 "nbformat": 4,
 "nbformat_minor": 5
}
