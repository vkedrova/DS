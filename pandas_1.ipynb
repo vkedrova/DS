{
 "cells": [
  {
   "cell_type": "code",
   "execution_count": 90,
   "id": "017708d9",
   "metadata": {},
   "outputs": [],
   "source": [
    "import pandas as pd"
   ]
  },
  {
   "cell_type": "code",
   "execution_count": 8,
   "id": "d3cab4f4",
   "metadata": {},
   "outputs": [
    {
     "data": {
      "text/html": [
       "<div>\n",
       "<style scoped>\n",
       "    .dataframe tbody tr th:only-of-type {\n",
       "        vertical-align: middle;\n",
       "    }\n",
       "\n",
       "    .dataframe tbody tr th {\n",
       "        vertical-align: top;\n",
       "    }\n",
       "\n",
       "    .dataframe thead th {\n",
       "        text-align: right;\n",
       "    }\n",
       "</style>\n",
       "<table border=\"1\" class=\"dataframe\">\n",
       "  <thead>\n",
       "    <tr style=\"text-align: right;\">\n",
       "      <th></th>\n",
       "      <th>country</th>\n",
       "      <th>year</th>\n",
       "      <th>quantity</th>\n",
       "      <th>category</th>\n",
       "    </tr>\n",
       "  </thead>\n",
       "  <tbody>\n",
       "    <tr>\n",
       "      <th>0</th>\n",
       "      <td>Austria</td>\n",
       "      <td>1996</td>\n",
       "      <td>5.0</td>\n",
       "      <td>1</td>\n",
       "    </tr>\n",
       "    <tr>\n",
       "      <th>1</th>\n",
       "      <td>Austria</td>\n",
       "      <td>1995</td>\n",
       "      <td>17.0</td>\n",
       "      <td>1</td>\n",
       "    </tr>\n",
       "    <tr>\n",
       "      <th>2</th>\n",
       "      <td>Belgium</td>\n",
       "      <td>2014</td>\n",
       "      <td>0.0</td>\n",
       "      <td>1</td>\n",
       "    </tr>\n",
       "    <tr>\n",
       "      <th>3</th>\n",
       "      <td>Belgium</td>\n",
       "      <td>2013</td>\n",
       "      <td>0.0</td>\n",
       "      <td>1</td>\n",
       "    </tr>\n",
       "    <tr>\n",
       "      <th>4</th>\n",
       "      <td>Belgium</td>\n",
       "      <td>2012</td>\n",
       "      <td>35.0</td>\n",
       "      <td>1</td>\n",
       "    </tr>\n",
       "  </tbody>\n",
       "</table>\n",
       "</div>"
      ],
      "text/plain": [
       "   country  year  quantity  category\n",
       "0  Austria  1996       5.0         1\n",
       "1  Austria  1995      17.0         1\n",
       "2  Belgium  2014       0.0         1\n",
       "3  Belgium  2013       0.0         1\n",
       "4  Belgium  2012      35.0         1"
      ]
     },
     "execution_count": 8,
     "metadata": {},
     "output_type": "execute_result"
    }
   ],
   "source": [
    "data = pd.read_csv('C:\\\\Users\\\\kedrovx\\\\OneDrive - Abbott\\\\Рабочий стол\\\\Admin\\\\DS\\\\PYDA_32\\\\power.csv')\n",
    "data.head()"
   ]
  },
  {
   "cell_type": "code",
   "execution_count": 38,
   "id": "2698c148",
   "metadata": {},
   "outputs": [
    {
     "data": {
      "text/plain": [
       "240580.0"
      ]
     },
     "execution_count": 38,
     "metadata": {},
     "output_type": "execute_result"
    }
   ],
   "source": [
    "baltic_data = data [(data['country'] == 'Lithuania') | (data['country'] == 'Latvia') | (data['country'] == 'Estonia')]\n",
    "baltic_data_count = baltic_data[(baltic_data['quantity'] > 0)]\n",
    "baltic_data_year = baltic_data_count[(baltic_data_count['year'] > 2004) & (baltic_data_count['year'] <2011)]\n",
    "baltic_consumption = baltic_data_year[(baltic_data_year['category'] == 4) | (baltic_data_year['category'] == 12) | (baltic_data_year['category'] == 21)]\n",
    "baltic_consumption['quantity'].sum()"
   ]
  },
  {
   "cell_type": "code",
   "execution_count": 47,
   "id": "7b5a04a3",
   "metadata": {},
   "outputs": [
    {
     "data": {
      "text/plain": [
       "userId  movieId  rating  timestamp \n",
       "1       296      5.0     1147880044    2.768186e-07\n",
       "108112  1411     5.0     1105475706    2.768186e-07\n",
       "        1256     5.0     1105469640    2.768186e-07\n",
       "        1257     5.0     1105469629    2.768186e-07\n",
       "        1263     5.0     1105475030    2.768186e-07\n",
       "dtype: float64"
      ]
     },
     "execution_count": 47,
     "metadata": {},
     "output_type": "execute_result"
    }
   ],
   "source": [
    "films = pd.read_csv('C:\\\\Users\\\\kedrovx\\\\OneDrive - Abbott\\\\Рабочий стол\\\\Admin\\\\DS\\\\PYDA_32\\\\ml-25m\\\\ratings.csv')\n",
    "top_films = films[(films['rating'] == 5)]\n",
    "top_films.value_counts(normalize=True).head()"
   ]
  },
  {
   "cell_type": "code",
   "execution_count": 54,
   "id": "fb1930c1",
   "metadata": {},
   "outputs": [
    {
     "data": {
      "text/plain": [
       "[       Дата  Закрытие  Открытие  Максимум  Минимум\n",
       " 0  27.05.22    665000    649250    690000   633750\n",
       " 1  26.05.22    646750    603500    650000   585250\n",
       " 2  25.05.22    596000    580001    605000   554995\n",
       " 3  24.05.22    580000    590250    591000   555000\n",
       " 4  23.05.22    585750    600250    610565   572230\n",
       " 5  20.05.22    620000    610000    645000   579249,\n",
       "        Имя  Unnamed: 1      %    курс                 Дата\n",
       " 0  EUR/RUB         NaN -33559  689888  30.05.2022 23:35:00\n",
       " 1  USD/RUB         NaN -37594      64  30.05.2022 22:29:00\n",
       " 2  CHF/RUB         NaN -37358  668547  30.05.2022 23:34:00\n",
       " 3  JPY/RUB         NaN -40696    5018  30.05.2022 23:35:00\n",
       " 4  GBP/RUB         NaN -35525   80992  30.05.2022 23:35:00\n",
       " 5  NOK/RUB         NaN -31834    6813  30.05.2022 23:35:00\n",
       " 6  AUD/RUB         NaN -32251  460736  30.05.2022 23:33:00\n",
       " 7  NZD/RUB         NaN -33683  419776  30.05.2022 23:34:00\n",
       " 8  TRY/RUB         NaN -43576   39055  30.05.2022 23:34:00]"
      ]
     },
     "execution_count": 54,
     "metadata": {},
     "output_type": "execute_result"
    }
   ],
   "source": [
    "course_url = 'https://www.finanz.ru/valyuty/usd-rub'\n",
    "course = pd.read_html(course_url, attrs = {'class':'news_table'}, encoding = 'utf-8')\n",
    "course[:10]"
   ]
  },
  {
   "cell_type": "code",
   "execution_count": 92,
   "id": "d7ed6675",
   "metadata": {},
   "outputs": [
    {
     "data": {
      "text/plain": [
       "[      Дата  Ключевая ставка, % годовых  Инфляция, % г/г  Цель по инфляции, %\n",
       " 0   4.2022                        1700             1783                  400\n",
       " 1   3.2022                        2000             1669                  400\n",
       " 2   2.2022                        2000              915                  400\n",
       " 3   1.2022                         850              873                  400\n",
       " 4  12.2021                         850              839                  400]"
      ]
     },
     "execution_count": 92,
     "metadata": {},
     "output_type": "execute_result"
    }
   ],
   "source": [
    "cb_url = 'https://cbr.ru/hd_base/infl/'\n",
    "cb_courses = pd.read_html(cb_url, attrs = {'class':'data'}, encoding = 'utf-8')\n",
    "cb_courses[:5]"
   ]
  },
  {
   "cell_type": "code",
   "execution_count": 98,
   "id": "61c6a7d2",
   "metadata": {},
   "outputs": [
    {
     "ename": "ValueError",
     "evalue": "DataFrame constructor not properly called!",
     "output_type": "error",
     "traceback": [
      "\u001b[1;31m---------------------------------------------------------------------------\u001b[0m",
      "\u001b[1;31mValueError\u001b[0m                                Traceback (most recent call last)",
      "\u001b[1;32m~\\AppData\\Local\\Temp/ipykernel_7220/1126857813.py\u001b[0m in \u001b[0;36m<module>\u001b[1;34m\u001b[0m\n\u001b[1;32m----> 1\u001b[1;33m \u001b[0mcb_df\u001b[0m \u001b[1;33m=\u001b[0m \u001b[0mpd\u001b[0m\u001b[1;33m.\u001b[0m\u001b[0mDataFrame\u001b[0m\u001b[1;33m(\u001b[0m\u001b[0mcb_courses\u001b[0m\u001b[1;33m)\u001b[0m\u001b[1;33m\u001b[0m\u001b[1;33m\u001b[0m\u001b[0m\n\u001b[0m",
      "\u001b[1;32m~\\Anaconda3\\lib\\site-packages\\pandas\\core\\frame.py\u001b[0m in \u001b[0;36m__init__\u001b[1;34m(self, data, index, columns, dtype, copy)\u001b[0m\n\u001b[0;32m    728\u001b[0m         \u001b[1;32melse\u001b[0m\u001b[1;33m:\u001b[0m\u001b[1;33m\u001b[0m\u001b[1;33m\u001b[0m\u001b[0m\n\u001b[0;32m    729\u001b[0m             \u001b[1;32mif\u001b[0m \u001b[0mindex\u001b[0m \u001b[1;32mis\u001b[0m \u001b[1;32mNone\u001b[0m \u001b[1;32mor\u001b[0m \u001b[0mcolumns\u001b[0m \u001b[1;32mis\u001b[0m \u001b[1;32mNone\u001b[0m\u001b[1;33m:\u001b[0m\u001b[1;33m\u001b[0m\u001b[1;33m\u001b[0m\u001b[0m\n\u001b[1;32m--> 730\u001b[1;33m                 \u001b[1;32mraise\u001b[0m \u001b[0mValueError\u001b[0m\u001b[1;33m(\u001b[0m\u001b[1;34m\"DataFrame constructor not properly called!\"\u001b[0m\u001b[1;33m)\u001b[0m\u001b[1;33m\u001b[0m\u001b[1;33m\u001b[0m\u001b[0m\n\u001b[0m\u001b[0;32m    731\u001b[0m \u001b[1;33m\u001b[0m\u001b[0m\n\u001b[0;32m    732\u001b[0m             \u001b[1;31m# Argument 1 to \"ensure_index\" has incompatible type \"Collection[Any]\";\u001b[0m\u001b[1;33m\u001b[0m\u001b[1;33m\u001b[0m\u001b[0m\n",
      "\u001b[1;31mValueError\u001b[0m: DataFrame constructor not properly called!"
     ]
    }
   ],
   "source": [
    "cb_df = pd.DataFrame(cb_courses)"
   ]
  }
 ],
 "metadata": {
  "kernelspec": {
   "display_name": "Python 3 (ipykernel)",
   "language": "python",
   "name": "python3"
  },
  "language_info": {
   "codemirror_mode": {
    "name": "ipython",
    "version": 3
   },
   "file_extension": ".py",
   "mimetype": "text/x-python",
   "name": "python",
   "nbconvert_exporter": "python",
   "pygments_lexer": "ipython3",
   "version": "3.9.7"
  }
 },
 "nbformat": 4,
 "nbformat_minor": 5
}
