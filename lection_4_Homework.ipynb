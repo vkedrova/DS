{
 "cells": [
  {
   "cell_type": "code",
   "execution_count": 2,
   "id": "85b5c83a",
   "metadata": {},
   "outputs": [],
   "source": [
    "documents = [\n",
    "{'type': 'passport', 'number': '2207 876234', 'name': 'Василий Гупкин'},\n",
    "{'type': 'invoice', 'number': '11-2', 'name': 'Геннадий Покемонов'},\n",
    "{'type': 'insurance', 'number': '10006', 'name': 'Аристарх Павлов'}\n",
    "]\n",
    "\n",
    "\n",
    "directories = {\n",
    "'1': ['2207 876234', '11-2'],\n",
    "'2': ['10006'],\n",
    "'3': []\n",
    "}   "
   ]
  },
  {
   "cell_type": "code",
   "execution_count": 131,
   "id": "09fa1638",
   "metadata": {},
   "outputs": [
    {
     "name": "stdout",
     "output_type": "stream",
     "text": [
      "Введите номер документа: 10006\n",
      "Документ не найден в базе\n",
      "Документ не найден в базе\n",
      "Аристарх Павлов\n"
     ]
    }
   ],
   "source": [
    "def person():\n",
    "    user_input_1 = input('Введите номер документа: ')\n",
    "    for i in documents:\n",
    "        doc_person = {i['number']: i['name']}\n",
    "        if user_input_1 in doc_person.keys():        \n",
    "            print(doc_person[user_input_1])\n",
    "        else: \n",
    "            print('Документ не найден в базе')\n",
    "            \n",
    "person()"
   ]
  },
  {
   "cell_type": "code",
   "execution_count": 132,
   "id": "6b5fe505",
   "metadata": {},
   "outputs": [
    {
     "name": "stdout",
     "output_type": "stream",
     "text": [
      "Введите номер документа: 11-2\n",
      "1\n",
      "Документ не найден\n",
      "Документ не найден\n"
     ]
    }
   ],
   "source": [
    "def shelf():\n",
    "    user_input_2 = input('Введите номер документа: ')\n",
    "    for k,v in directories.items():\n",
    "        if user_input_2 in v:\n",
    "            print(k)\n",
    "        else:\n",
    "            print('Документ не найден')\n",
    "            \n",
    "shelf()"
   ]
  },
  {
   "cell_type": "code",
   "execution_count": 133,
   "id": "6effc9f0",
   "metadata": {},
   "outputs": [
    {
     "name": "stdout",
     "output_type": "stream",
     "text": [
      "№ 2207 876234, тип: passport, владелец: Василий Гупкин, полка хранения: 1\n",
      "№ 11-2, тип: invoice, владелец: Геннадий Покемонов, полка хранения: 1\n",
      "№ 10006, тип: insurance, владелец: Аристарх Павлов, полка хранения: 1\n"
     ]
    }
   ],
   "source": [
    "def info():\n",
    "    documents_new = documents\n",
    "    for element in documents_new:\n",
    "            element['shelf'] = k\n",
    "            print(f'№ {element[\"number\"]}, тип: {element[\"type\"]}, владелец: {element[\"name\"]}, полка хранения: {element[\"shelf\"]}')\n",
    "            \n",
    "info()   "
   ]
  },
  {
   "cell_type": "code",
   "execution_count": 134,
   "id": "d5c39584",
   "metadata": {},
   "outputs": [
    {
     "name": "stdout",
     "output_type": "stream",
     "text": [
      "Введите номер полки: 2\n",
      "Полка уже добавлена.Текущий перечень полок: ['1', '2', '3']\n"
     ]
    }
   ],
   "source": [
    "def addition():\n",
    "    user_input_3 = str(input('Введите номер полки: '))\n",
    "    if user_input_3 not in directories.keys():\n",
    "        directories[user_input_3] = []\n",
    "        print(f' Полка добавлена. Текущий перечень полок: {list(directories.keys())}')\n",
    "    else: print(f'Полка уже добавлена.Текущий перечень полок: {list(directories.keys())}')\n",
    "        \n",
    "addition()"
   ]
  },
  {
   "cell_type": "code",
   "execution_count": 135,
   "id": "82828d2e",
   "metadata": {},
   "outputs": [
    {
     "name": "stdout",
     "output_type": "stream",
     "text": [
      "Введите номер полки: 8\n",
      "Такой полки не существует. Текущий перечень полок: ['1', '2', '3']\n"
     ]
    }
   ],
   "source": [
    "def deletion():\n",
    "    user_input_4 = str(input('Введите номер полки: '))\n",
    "    if user_input_4 in directories.keys() and len(directories[user_input_4]) == 0:\n",
    "        del directories[user_input_4]\n",
    "        print(f'Полка удалена. Текущий перечень полок: {list(directories.keys())}')\n",
    "    elif user_input_4 in directories.keys() and len(directories[user_input_4]) != 0:\n",
    "        print(f'На полке есть документа, удалите их перед удалением полки. Текущий перечень полок: {list(directories.keys())}')\n",
    "    else:     \n",
    "        print(f'Такой полки не существует. Текущий перечень полок: {list(directories.keys())}')\n",
    "deletion()"
   ]
  },
  {
   "cell_type": "code",
   "execution_count": null,
   "id": "9ea221e7",
   "metadata": {},
   "outputs": [
    {
     "name": "stdout",
     "output_type": "stream",
     "text": [
      "Введите команду s\n",
      "Введите номер документа: 10006\n",
      "Документ не найден\n",
      "2\n",
      "Документ не найден\n"
     ]
    }
   ],
   "source": [
    "# user_input = str(input('Введите команду '))\n",
    "while user_input != 'q':\n",
    "    user_input = str(input('Введите команду '))\n",
    "    if user_input == 'p':\n",
    "        person()\n",
    "    elif user_input == 's':\n",
    "        shelf()\n",
    "    elif user_input == 'l':\n",
    "        info()\n",
    "    elif user_input == 'ads':\n",
    "        addition()\n",
    "    elif user_input == 'ds':\n",
    "        deletion()"
   ]
  }
 ],
 "metadata": {
  "kernelspec": {
   "display_name": "Python 3 (ipykernel)",
   "language": "python",
   "name": "python3"
  },
  "language_info": {
   "codemirror_mode": {
    "name": "ipython",
    "version": 3
   },
   "file_extension": ".py",
   "mimetype": "text/x-python",
   "name": "python",
   "nbconvert_exporter": "python",
   "pygments_lexer": "ipython3",
   "version": "3.9.7"
  }
 },
 "nbformat": 4,
 "nbformat_minor": 5
}
