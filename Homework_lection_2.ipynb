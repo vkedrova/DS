{
 "cells": [
  {
   "cell_type": "code",
   "execution_count": 6,
   "id": "038850aa",
   "metadata": {},
   "outputs": [
    {
     "name": "stdout",
     "output_type": "stream",
     "text": [
      "2\n",
      "2\n",
      "2\n",
      "0\n",
      "4\n"
     ]
    }
   ],
   "source": [
    "count = 0\n",
    "num = int(input())\n",
    "\n",
    "while num != 0:\n",
    "    num = int(input())\n",
    "    count += num\n",
    "else: print(count)"
   ]
  },
  {
   "cell_type": "code",
   "execution_count": 34,
   "id": "5e0d7c78",
   "metadata": {},
   "outputs": [
    {
     "name": "stdout",
     "output_type": "stream",
     "text": [
      "Идеальные пары:\n",
      "Alex и Emma\n",
      "Arthur и Kate\n",
      "John и Kira\n",
      "Peter и Liza\n",
      "Richard и Trisha\n"
     ]
    }
   ],
   "source": [
    "boys = ['Peter', 'Alex', 'John', 'Arthur', 'Richard']\n",
    "girls = ['Kate', 'Liza', 'Kira', 'Emma', 'Trisha']\n",
    "\n",
    "boys1, girls1 = boys.sort(), girls.sort()\n",
    "\n",
    "if len(boys) == len(girls):\n",
    "    print('Идеальные пары:')\n",
    "    both = zip(boys, girls)\n",
    "    for i, j in both:\n",
    "        print(i, 'и', j)\n",
    "else: print('Кто-то может остаться без пары!')"
   ]
  },
  {
   "cell_type": "code",
   "execution_count": 73,
   "id": "a307f155",
   "metadata": {},
   "outputs": [
    {
     "name": "stdout",
     "output_type": "stream",
     "text": [
      "testing\n",
      "t\n"
     ]
    }
   ],
   "source": [
    "text = input()\n",
    "\n",
    "if len(text) % 2 == 0:\n",
    "    lit1 = text[: len(text) // 2]\n",
    "    lit2 = text[len(text) // 2 :]\n",
    "    print(lit1[-1] + lit2[0])\n",
    "    \n",
    "else: print(text[ceil(len(text)/2-1)])\n"
   ]
  },
  {
   "cell_type": "code",
   "execution_count": 23,
   "id": "9e7fbb96",
   "metadata": {},
   "outputs": [
    {
     "name": "stdout",
     "output_type": "stream",
     "text": [
      "Средняя температура в странах:\n",
      "Thailand - 23.9 C\n",
      "Germany - 13.8 C\n",
      "Russia - 3.7 C\n",
      "Poland - 12.0 C\n"
     ]
    }
   ],
   "source": [
    "countries_temperature = [\n",
    "['Thailand', [75.2, 77, 78.8, 73.4, 68, 75.2, 77]],\n",
    "['Germany', [57.2, 55.4, 59, 59, 53.6]],\n",
    "['Russia', [35.6, 37.4, 39.2, 41, 42.8, 39.2, 35.6]],\n",
    "['Poland', [50, 50, 53.6, 57.2, 55.4, 55.4]]\n",
    "]\n",
    "\n",
    "print('Средняя температура в странах:')\n",
    "for country, temp in countries_temperature:\n",
    "    print(f'{country.title()} - {round(((sum(temp) / len(temp) - 32) / 1.8), 1)} C')"
   ]
  },
  {
   "cell_type": "code",
   "execution_count": 74,
   "id": "3750d3e9",
   "metadata": {},
   "outputs": [
    {
     "name": "stdout",
     "output_type": "stream",
     "text": [
      "Среднее количество просмотров на уникального пользователя 145.33\n"
     ]
    }
   ],
   "source": [
    "stream = [\n",
    "'2018-01-01,user100,150',\n",
    "'2018-01-07,user99,205',\n",
    "'2018-03-29,user1001,81'\n",
    "]\n",
    "\n",
    "my_list = []\n",
    "\n",
    "for i in stream:\n",
    "    my_list.append(int(i.split(',')[2]))\n",
    "    \n",
    "print(f'Среднее количество просмотров на уникального пользователя {round(sum(my_list) / len(my_list), 2)}')\n"
   ]
  }
 ],
 "metadata": {
  "kernelspec": {
   "display_name": "Python 3 (ipykernel)",
   "language": "python",
   "name": "python3"
  },
  "language_info": {
   "codemirror_mode": {
    "name": "ipython",
    "version": 3
   },
   "file_extension": ".py",
   "mimetype": "text/x-python",
   "name": "python",
   "nbconvert_exporter": "python",
   "pygments_lexer": "ipython3",
   "version": "3.9.7"
  }
 },
 "nbformat": 4,
 "nbformat_minor": 5
}
